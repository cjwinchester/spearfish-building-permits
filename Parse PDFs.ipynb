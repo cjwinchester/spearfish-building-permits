{
 "cells": [
  {
   "cell_type": "markdown",
   "id": "75757f4d-6514-461e-a80e-3d9236152603",
   "metadata": {},
   "source": [
    "# Parse PDFs\n",
    "\n",
    "This notebook has code to parse a PDF file in the `pdfs` folder into a CSV file in the `data` folder. (I do these one month at a time, spot-checking the data as I go.)"
   ]
  },
  {
   "cell_type": "code",
   "execution_count": 1,
   "id": "19a9fe41-1e6a-47cf-8ffa-ee8adb6b9583",
   "metadata": {},
   "outputs": [],
   "source": [
    "import glob\n",
    "import os\n",
    "import csv\n",
    "\n",
    "import pdfplumber\n",
    "import pandas as pd\n",
    "\n",
    "from const import csv_headers"
   ]
  },
  {
   "cell_type": "code",
   "execution_count": 3,
   "id": "29a4586a-e353-46bc-bb39-9838d5fe556c",
   "metadata": {},
   "outputs": [],
   "source": [
    "%run download"
   ]
  },
  {
   "cell_type": "code",
   "execution_count": 4,
   "id": "689f1706-6123-4f1f-b95d-c993aa116a39",
   "metadata": {},
   "outputs": [],
   "source": [
    "date = '2024-07'"
   ]
  },
  {
   "cell_type": "code",
   "execution_count": 5,
   "id": "26730621-b619-4a94-8dcf-74ff968c14d0",
   "metadata": {
    "scrolled": true
   },
   "outputs": [
    {
     "name": "stdout",
     "output_type": "stream",
     "text": [
      "{'permit_number': '240123', 'applicant_name': 'CITY OF SPEARFISH', 'construction_type': 'COMMERCIAL NEW BUILDING', 'cost_approximate': '1925950.00', 'permit_fee': '', 'outside_city_limits': '', 'site_address': '225 RAINBOW ROAD N', 'contractor': 'RCS CONSTRUCTION', 'hookup_fee': '', 'year': '2024', 'month': '07'}\n",
      "{'permit_number': 'CBP-24-4', 'applicant_name': 'Zach Policky', 'construction_type': 'Commercial Remodel / Alteration', 'cost_approximate': '457000.00', 'permit_fee': '3489.14', 'outside_city_limits': '', 'site_address': '313 West Jackson Street', 'contractor': 'RCS Construction, Inc.', 'hookup_fee': '', 'year': '2024', 'month': '07'}\n",
      "{'permit_number': 'CBP-24-15', 'applicant_name': 'Hotel Conversions Inc', 'construction_type': 'Commercial Re-Roof', 'cost_approximate': '85663.00', 'permit_fee': '931.05', 'outside_city_limits': '', 'site_address': '230 North Main Street', 'contractor': 'Full Curl Roofing Co', 'hookup_fee': '', 'year': '2024', 'month': '07'}\n",
      "{'permit_number': 'CBP-24-16', 'applicant_name': 'Twin Towers Tranding', 'construction_type': 'Commercial Remodel / Alteration', 'cost_approximate': '72000.00', 'permit_fee': '1277.50', 'outside_city_limits': '', 'site_address': '2825 1st Avenue', 'contractor': 'FEC LLC', 'hookup_fee': '', 'year': '2024', 'month': '07'}\n",
      "{'permit_number': 'CBP-24-17', 'applicant_name': 'Pioneer Bank & Trust', 'construction_type': 'Commercial Remodel / Alteration', 'cost_approximate': '65000.00', 'permit_fee': '788.25', 'outside_city_limits': '', 'site_address': '125 East Colorado Boulevard', 'contractor': 'Journey Group Companies', 'hookup_fee': '', 'year': '2024', 'month': '07'}\n",
      "{'permit_number': 'CBP-24-18', 'applicant_name': 'Spearfish Martial Arts', 'construction_type': 'Commercial Remodel / Alteration', 'cost_approximate': '9750.00', 'permit_fee': '308.75', 'outside_city_limits': '', 'site_address': '2431 East Colorado Boulevard', 'contractor': 'Highland Construction', 'hookup_fee': '', 'year': '2024', 'month': '07'}\n",
      "{'permit_number': 'CBP-24-19', 'applicant_name': 'Spearfish Property Holdings LLC', 'construction_type': 'Commercial Remodel / Alteration', 'cost_approximate': '', 'permit_fee': '116.00', 'outside_city_limits': '', 'site_address': '1020 N. 10th Street', 'contractor': 'Owner', 'hookup_fee': '', 'year': '2024', 'month': '07'}\n",
      "{'permit_number': 'CBP-24-20', 'applicant_name': 'Bob Meyer', 'construction_type': 'Commercial Re-Roof', 'cost_approximate': '109310.00', 'permit_fee': '84.15', 'outside_city_limits': '', 'site_address': '3100 1st Avenue', 'contractor': 'Lowe Roofing, Inc.', 'hookup_fee': '', 'year': '2024', 'month': '07'}\n",
      "{'permit_number': 'CBP-24-21', 'applicant_name': 'Walmart', 'construction_type': 'Commercial Remodel / Alteration', 'cost_approximate': '400000.00', 'permit_fee': '2757.25', 'outside_city_limits': '', 'site_address': '2825 1st Avenue', 'contractor': 'Johnson Control Fire Protection LP', 'hookup_fee': '', 'year': '2024', 'month': '07'}\n",
      "{'permit_number': 'CBP-24-22', 'applicant_name': '2735 1st LLC', 'construction_type': 'Commercial Repair', 'cost_approximate': '40849.05', 'permit_fee': '633.15', 'outside_city_limits': '', 'site_address': '2735 1st Avenue', 'contractor': 'Kumelos Design & Construction, Inc.', 'hookup_fee': '', 'year': '2024', 'month': '07'}\n",
      "{'permit_number': 'CBP-24-29', 'applicant_name': 'Jeff Leonard', 'construction_type': 'Commercial New Construction', 'cost_approximate': '250000.00', 'permit_fee': '1431.00', 'outside_city_limits': True, 'site_address': '399 Upper Valley Road', 'contractor': 'Owner', 'hookup_fee': '', 'year': '2024', 'month': '07'}\n",
      "{'permit_number': 'RBP-24-41', 'applicant_name': 'Craig and Mary Gardner', 'construction_type': 'Residential New Construction', 'cost_approximate': '496978.84', 'permit_fee': '3502.94', 'outside_city_limits': True, 'site_address': '7100 Centennial Road', 'contractor': 'Voss Custom Homes', 'hookup_fee': '', 'year': '2024', 'month': '07'}\n",
      "{'permit_number': 'RBP-24-45', 'applicant_name': 'Joe Routh', 'construction_type': 'Residential New Construction', 'cost_approximate': '532028.40', 'permit_fee': '4372.71', 'outside_city_limits': '', 'site_address': '2016 Pony Express Lane', 'contractor': 'Routh Construction LLC', 'hookup_fee': '3500.00', 'year': '2024', 'month': '07'}\n",
      "{'permit_number': 'RBP-24-46', 'applicant_name': 'Kade Ferguson', 'construction_type': 'Residential New Construction', 'cost_approximate': '359995.64', 'permit_fee': '3323.45', 'outside_city_limits': '', 'site_address': '232 N. 7th Street', 'contractor': 'Owner', 'hookup_fee': '', 'year': '2024', 'month': '07'}\n",
      "{'permit_number': 'RBP-24-47', 'applicant_name': 'Ott Investments LLC', 'construction_type': 'Residential New Construction', 'cost_approximate': '695677.35', 'permit_fee': '4239.77', 'outside_city_limits': True, 'site_address': '3722 Grand Loop', 'contractor': 'Owner', 'hookup_fee': '', 'year': '2024', 'month': '07'}\n",
      "{'permit_number': 'RBP-24-53', 'applicant_name': 'Jet Stigter', 'construction_type': 'Residential Covered Patio', 'cost_approximate': '37230.20', 'permit_fee': '584.37', 'outside_city_limits': '', 'site_address': '234 South 5th Street', 'contractor': 'Barnett Custom Building', 'hookup_fee': '', 'year': '2024', 'month': '07'}\n",
      "{'permit_number': 'RBP-24-55', 'applicant_name': 'King and Cassie Brown', 'construction_type': 'Residential Remodel / Alteration', 'cost_approximate': '102380.64', 'permit_fee': '1078.56', 'outside_city_limits': True, 'site_address': '110 Hardy Drive', 'contractor': 'True Builders LLC', 'hookup_fee': '', 'year': '2024', 'month': '07'}\n",
      "{'permit_number': 'RBP-24-70', 'applicant_name': 'Billy & Tiffany Clendenen', 'construction_type': 'Residential Addition', 'cost_approximate': '42237.02', 'permit_fee': '626.82', 'outside_city_limits': True, 'site_address': '3705 Hillsview Road', 'contractor': 'Owner', 'hookup_fee': '', 'year': '2024', 'month': '07'}\n",
      "{'permit_number': 'RBP-24-73', 'applicant_name': 'Lisa and Scott Black', 'construction_type': 'Residential Deck', 'cost_approximate': '5135.20', 'permit_fee': '151.95', 'outside_city_limits': '', 'site_address': '1303 Meadowlark Court', 'contractor': 'RnR Residential', 'hookup_fee': '', 'year': '2024', 'month': '07'}\n",
      "{'permit_number': 'RBP-24-75', 'applicant_name': 'Bob Dolen', 'construction_type': 'Residential Deck', 'cost_approximate': '17973.20', 'permit_fee': '355.35', 'outside_city_limits': '', 'site_address': '2105 Blue Bell Loop', 'contractor': 'Ponderosa Builders LLC', 'hookup_fee': '', 'year': '2024', 'month': '07'}\n",
      "{'permit_number': 'RBP-24-81', 'applicant_name': 'MSD Properties', 'construction_type': 'Residential Remodel / Alteration', 'cost_approximate': '20000.00', 'permit_fee': '432.25', 'outside_city_limits': '', 'site_address': '614 Meier Avenue', 'contractor': 'Blue Water Construction', 'hookup_fee': '', 'year': '2024', 'month': '07'}\n",
      "{'permit_number': 'RBP-24-82', 'applicant_name': 'Michael Warwick', 'construction_type': 'Residential New Construction', 'cost_approximate': '449047.8', 'permit_fee': '3889.75', 'outside_city_limits': '', 'site_address': '7668 Coley Road', 'contractor': '', 'hookup_fee': '3500.00', 'year': '2024', 'month': '07'}\n",
      "{'permit_number': 'RBP-24-84', 'applicant_name': 'Dennis Wilson', 'construction_type': 'Residential Covered Patio', 'cost_approximate': '15020.46', 'permit_fee': '321.45', 'outside_city_limits': '', 'site_address': '8113 Luke Court', 'contractor': 'Roy Goben', 'hookup_fee': '', 'year': '2024', 'month': '07'}\n",
      "{'permit_number': 'RBP-24-85', 'applicant_name': 'Raymond Glueckert', 'construction_type': 'Residential New Construction', 'cost_approximate': '355992.51', 'permit_fee': '3235.37', 'outside_city_limits': '', 'site_address': '1006 N. Canyon Street', 'contractor': 'Legacy Enterprises', 'hookup_fee': '3500.00', 'year': '2024', 'month': '07'}\n",
      "{'permit_number': 'RBP-24-86', 'applicant_name': 'Margaret Richards', 'construction_type': 'Mobile Home Placement', 'cost_approximate': '', 'permit_fee': '86.00', 'outside_city_limits': True, 'site_address': '351 Upper Valley Road', 'contractor': 'Centennial Homes', 'hookup_fee': '', 'year': '2024', 'month': '07'}\n",
      "{'permit_number': 'RBP-24-88', 'applicant_name': 'Nate David', 'construction_type': 'Residential Deck', 'cost_approximate': '5648.72', 'permit_fee': '151.95', 'outside_city_limits': '', 'site_address': '3750 West Beartooth Loop', 'contractor': 'Ruby Mountain Construction LLC', 'hookup_fee': '', 'year': '2024', 'month': '07'}\n",
      "{'permit_number': 'RBP-24-90', 'applicant_name': 'Sierra Estes', 'construction_type': 'Residential Deck', 'cost_approximate': '3081.12', 'permit_fee': '118.05', 'outside_city_limits': True, 'site_address': '259 Sunshine Drive', 'contractor': 'Dennis Forgey Construction LLC', 'hookup_fee': '', 'year': '2024', 'month': '07'}\n",
      "{'permit_number': 'RBP-24-93', 'applicant_name': 'David Iverson', 'construction_type': 'Residential New Construction', 'cost_approximate': '485857.84', 'permit_fee': '3413.47', 'outside_city_limits': True, 'site_address': '3065 Golden Eagle Place', 'contractor': 'Owner', 'hookup_fee': '', 'year': '2024', 'month': '07'}\n",
      "{'permit_number': 'RBP-24-95', 'applicant_name': 'Ron Weber', 'construction_type': 'Residential Detached Garage', 'cost_approximate': '36716.68', 'permit_fee': '575.88', 'outside_city_limits': '', 'site_address': '1217 Terry Peak Lane', 'contractor': 'Vandeest Construction', 'hookup_fee': '', 'year': '2024', 'month': '07'}\n",
      "{'permit_number': 'RBP-24-99', 'applicant_name': 'Alex Hohenthaner', 'construction_type': 'Residential Demolition', 'cost_approximate': '3000.00', 'permit_fee': '25.00', 'outside_city_limits': '', 'site_address': '724 1/2 Duke Lane', 'contractor': 'Citrowske Excavating L.L.C.', 'hookup_fee': '', 'year': '2024', 'month': '07'}\n",
      "{'permit_number': 'RBP-24-101', 'applicant_name': 'High Plains Construction, Inc', 'construction_type': 'Residential New Construction', 'cost_approximate': '494081.43', 'permit_fee': '4190.40', 'outside_city_limits': '', 'site_address': '2384 Top Shelf Ave', 'contractor': 'Owner', 'hookup_fee': '3500.00', 'year': '2024', 'month': '07'}\n",
      "{'permit_number': 'RBP-24-106', 'applicant_name': 'Paul & Lisa Schneider', 'construction_type': 'Residential Remodel / Alteration', 'cost_approximate': '7300.00', 'permit_fee': '33.00', 'outside_city_limits': '', 'site_address': '1730 St. Joe Street', 'contractor': 'Your Home Improvement Co., LLC', 'hookup_fee': '', 'year': '2024', 'month': '07'}\n",
      "{'permit_number': 'RBP-24-107', 'applicant_name': 'Forrest & Sharon Brady', 'construction_type': 'Residential Remodel / Alteration', 'cost_approximate': '7500.00', 'permit_fee': '185.85', 'outside_city_limits': '', 'site_address': '314 Polley Drive', 'contractor': 'Your Home Improvement Co., LLC', 'hookup_fee': '', 'year': '2024', 'month': '07'}\n",
      "{'permit_number': 'RBP-24-108', 'applicant_name': 'Kevin & Pamela Dahl', 'construction_type': 'Residential Remodel / Alteration', 'cost_approximate': '8200.00', 'permit_fee': '235.80', 'outside_city_limits': '', 'site_address': '1903 Ward Avenue', 'contractor': 'Your Home Improvement Co., LLC', 'hookup_fee': '', 'year': '2024', 'month': '07'}\n"
     ]
    }
   ],
   "source": [
    "filepath_in = f'pdfs/{date}.pdf'\n",
    "filepath_out = f'data/{date}.csv'\n",
    "\n",
    "year, month = date.split('-')\n",
    "\n",
    "if os.path.exists(filepath_out):\n",
    "    raise Exception(f'CSV file exists! {filepath_out}')\n",
    "\n",
    "# open the PDF with pdfplumber\n",
    "with pdfplumber.open(filepath_in) as pdf:\n",
    "\n",
    "    # empty list to hold the extracted data\n",
    "    table_data = []\n",
    "\n",
    "    # loop over the PDF pages\n",
    "    for page in pdf.pages:\n",
    "\n",
    "        # some reports have 2 tables on the last page,\n",
    "        # so you need to make sure you end up with the first one\n",
    "        table = page.extract_tables()[0]\n",
    "\n",
    "        # add the data to the tracking list\n",
    "        if table:\n",
    "            table_data.extend(table)\n",
    "\n",
    "# an empty list to hold the parsed data\n",
    "data_parsed = []\n",
    "\n",
    "# records are split over two lines, so using sentinel vars\n",
    "# to guardrail populating a dict as you iterate\n",
    "current_record = {}\n",
    "\n",
    "# loop over the rows of raw data\n",
    "for line in table_data:\n",
    "\n",
    "    # using some string methods later, so want empty strings\n",
    "    # instead of None vals for blanks\n",
    "    line = [x or '' for x in line]\n",
    "\n",
    "    # skip empty rows\n",
    "    if not any(line):\n",
    "        continue\n",
    "\n",
    "    # see what the first value in the row is\n",
    "    first_value = line[0].lower()\n",
    "\n",
    "    # break if you get to a row with any\n",
    "    # of these terms are present in the first value\n",
    "    break_terms = [\n",
    "        'total',\n",
    "        'year-to-date',\n",
    "        'year to date',\n",
    "        'project',\n",
    "        '\\n',\n",
    "        'permits'\n",
    "    ]\n",
    "\n",
    "    if any([x in first_value.lower() for x in break_terms]):\n",
    "        break\n",
    "\n",
    "    # parse the line that begins with \"address\" --\n",
    "    # second line in the record\n",
    "    if first_value == 'address':\n",
    "        _, address,  _, contractor, _, hookup_fee = line\n",
    "\n",
    "        current_record['site_address'] = address\n",
    "\n",
    "        current_record['contractor'] = contractor\n",
    "        current_record['hookup_fee'] = hookup_fee\n",
    "        current_record['year'] = year\n",
    "        current_record['month'] = month\n",
    "\n",
    "        # clean up some garbage chars in the currency columns\n",
    "        for x in [' ', '$', ',', 'nofee', 'n/a', '-', 'waived']:\n",
    "            current_record['cost_approximate'] = current_record['cost_approximate'].lower().replace(x, '')\n",
    "            current_record['permit_fee'] = current_record['permit_fee'].lower().replace(x, '')\n",
    "            current_record['hookup_fee'] = current_record['hookup_fee'].lower().replace(x, '')\n",
    "\n",
    "        # we're done! print to let us know what's up\n",
    "        print(current_record)\n",
    "\n",
    "        # add the now-full dict to the main list\n",
    "        data_parsed.append(current_record)\n",
    "\n",
    "        # ... and reset the tracking dict\n",
    "        current_record = {}\n",
    "\n",
    "    # parse the first line of each record\n",
    "    else:\n",
    "        permit_id, applicant, const_type, _, cost, permit_fee = line\n",
    "\n",
    "        # break this out into its own var\n",
    "        outside_city_limits = ''\n",
    "    \n",
    "        if '*' in permit_id:\n",
    "            outside_city_limits = True\n",
    "    \n",
    "        permit_id = permit_id.replace('*', '')\n",
    "\n",
    "        current_record['permit_number'] = permit_id\n",
    "        current_record['applicant_name'] = applicant\n",
    "        current_record['construction_type'] = const_type\n",
    "        current_record['cost_approximate'] = cost\n",
    "        current_record['permit_fee'] = permit_fee\n",
    "        current_record['outside_city_limits'] = outside_city_limits"
   ]
  },
  {
   "cell_type": "code",
   "execution_count": 6,
   "id": "e38f38d6-c47f-4cd2-9d03-e7f1e0049447",
   "metadata": {},
   "outputs": [
    {
     "name": "stdout",
     "output_type": "stream",
     "text": [
      "Wrote 34 records to file: data/2024-07.csv\n"
     ]
    }
   ],
   "source": [
    "# write the records to file -- be sure to check the\n",
    "# record count against the live PDF and check for accuracy\n",
    "with open(filepath_out, 'w') as outfile:\n",
    "    writer = csv.DictWriter(outfile, fieldnames=csv_headers)\n",
    "    writer.writeheader()\n",
    "    writer.writerows(data_parsed)\n",
    "\n",
    "print(f'Wrote {len(data_parsed)} records to file: {filepath_out}')"
   ]
  },
  {
   "cell_type": "code",
   "execution_count": 7,
   "id": "2630e43d-c810-4bda-8c51-40ef383b69e8",
   "metadata": {},
   "outputs": [
    {
     "name": "stdout",
     "output_type": "stream",
     "text": [
      "Wrote 5,134 permit records to file: spearfish-building-permits.csv\n"
     ]
    }
   ],
   "source": [
    "%run combine"
   ]
  },
  {
   "cell_type": "code",
   "execution_count": null,
   "id": "d8ed7486-e4df-480b-ac2a-ec0f612818bf",
   "metadata": {},
   "outputs": [],
   "source": []
  }
 ],
 "metadata": {
  "kernelspec": {
   "display_name": "Python 3 (ipykernel)",
   "language": "python",
   "name": "python3"
  },
  "language_info": {
   "codemirror_mode": {
    "name": "ipython",
    "version": 3
   },
   "file_extension": ".py",
   "mimetype": "text/x-python",
   "name": "python",
   "nbconvert_exporter": "python",
   "pygments_lexer": "ipython3",
   "version": "3.12.4"
  }
 },
 "nbformat": 4,
 "nbformat_minor": 5
}
