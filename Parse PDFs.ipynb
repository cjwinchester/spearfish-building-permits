{
 "cells": [
  {
   "cell_type": "markdown",
   "id": "75757f4d-6514-461e-a80e-3d9236152603",
   "metadata": {},
   "source": [
    "# Parse PDFs\n",
    "\n",
    "This notebook has code to parse a PDF file in the `pdfs` folder into a CSV file in the `data` folder. (I do these one month at a time, spot-checking the data as I go.)"
   ]
  },
  {
   "cell_type": "code",
   "execution_count": 1,
   "id": "19a9fe41-1e6a-47cf-8ffa-ee8adb6b9583",
   "metadata": {},
   "outputs": [],
   "source": [
    "import glob\n",
    "import os\n",
    "import csv\n",
    "\n",
    "import pdfplumber\n",
    "import pandas as pd\n",
    "\n",
    "from const import csv_headers"
   ]
  },
  {
   "cell_type": "code",
   "execution_count": 5,
   "id": "689f1706-6123-4f1f-b95d-c993aa116a39",
   "metadata": {},
   "outputs": [],
   "source": [
    "date = '2024-05'"
   ]
  },
  {
   "cell_type": "code",
   "execution_count": 6,
   "id": "26730621-b619-4a94-8dcf-74ff968c14d0",
   "metadata": {
    "scrolled": true
   },
   "outputs": [
    {
     "name": "stdout",
     "output_type": "stream",
     "text": [
      "{'permit_number': '240089', 'applicant_name': 'VERIZON WIRELESS', 'construction_type': 'COMMERCIAL ALTERATION', 'cost_approximate': '50000.00', 'permit_fee': '486.00', 'outside_city_limits': '', 'site_address': '250 CHRISTENSEN DRIVE', 'contractor': 'OWNER', 'hookup_fee': '', 'year': '2024', 'month': '05'}\n",
      "{'permit_number': '240114', 'applicant_name': 'LOVINGLIFE LLC', 'construction_type': 'COMMERCIAL ALTERATION', 'cost_approximate': '1200000.00', 'permit_fee': '3420.00', 'outside_city_limits': '', 'site_address': '222 ILLINOIS STREET W', 'contractor': 'OWNER', 'hookup_fee': '3000.00', 'year': '2024', 'month': '05'}\n",
      "{'permit_number': 'CBP-24-1', 'applicant_name': 'Monument Health', 'construction_type': 'Commercial Alteration', 'cost_approximate': '969000.00', 'permit_fee': '5705.03', 'outside_city_limits': '', 'site_address': '1445 North Avenue', 'contractor': 'Journey Group', 'hookup_fee': '', 'year': '2024', 'month': '05'}\n",
      "{'permit_number': 'CBP-24-2', 'applicant_name': 'Venture Court LLC', 'construction_type': 'Commercial Alteration', 'cost_approximate': '47000.00', 'permit_fee': '1195.61', 'outside_city_limits': '', 'site_address': '3170 Venture Court, Unit 5', 'contractor': 'Journey Group', 'hookup_fee': '', 'year': '2024', 'month': '05'}\n",
      "{'permit_number': 'CBP-24-5', 'applicant_name': 'Eileen Burr', 'construction_type': 'Commercial Alteration', 'cost_approximate': '50000.00', 'permit_fee': '33.00', 'outside_city_limits': '', 'site_address': '209 Evans Lane', 'contractor': 'Ponderosa Builders', 'hookup_fee': '', 'year': '2024', 'month': '05'}\n",
      "{'permit_number': '240152', 'applicant_name': 'BENEDICT, TAMMY', 'construction_type': 'MANUFACTURED MH PLACEMENT', 'cost_approximate': '15000.00', 'permit_fee': '408.00', 'outside_city_limits': '', 'site_address': '431 HILLSVIEW ROAD', 'contractor': 'OWNER', 'hookup_fee': '', 'year': '2024', 'month': '05'}\n",
      "{'permit_number': '240121', 'applicant_name': 'KIEFER, JERRI', 'construction_type': 'RESIDENTIAL ALTERATION', 'cost_approximate': '6400.00', 'permit_fee': '155.00', 'outside_city_limits': '', 'site_address': '316 MICHIGAN STREET E', 'contractor': 'YHIC', 'hookup_fee': '', 'year': '2024', 'month': '05'}\n",
      "{'permit_number': 'RBP-24-4', 'applicant_name': 'Clint McAllister', 'construction_type': 'Residential Alteration', 'cost_approximate': '3000.00', 'permit_fee': '137.11', 'outside_city_limits': '', 'site_address': '471 Gooseberry Road', 'contractor': 'MJ Plumbing Inc', 'hookup_fee': '', 'year': '2024', 'month': '05'}\n",
      "{'permit_number': 'RBP-24-5', 'applicant_name': 'KRUM, ABBY D', 'construction_type': 'Residential Alteration', 'cost_approximate': '30000.00', 'permit_fee': '948.60', 'outside_city_limits': '', 'site_address': '1013 Jonas Blvd.', 'contractor': 'Page ETC, Inc', 'hookup_fee': '', 'year': '2024', 'month': '05'}\n",
      "{'permit_number': 'RBP-24-6', 'applicant_name': 'Spearfish United Methodist Church', 'construction_type': 'Residential Alteration', 'cost_approximate': '15750.00', 'permit_fee': '321.45', 'outside_city_limits': '', 'site_address': '313 Sandstone Hills Drive', 'contractor': 'Hart Homes', 'hookup_fee': '', 'year': '2024', 'month': '05'}\n",
      "{'permit_number': 'RBP-24-8', 'applicant_name': 'Brian Shippy', 'construction_type': 'Residential Alteration', 'cost_approximate': '50000.00', 'permit_fee': '805.25', 'outside_city_limits': '', 'site_address': '1633 3rd Street', 'contractor': 'Owner', 'hookup_fee': '', 'year': '2024', 'month': '05'}\n",
      "{'permit_number': 'RBP-24-20', 'applicant_name': 'James Kochuten', 'construction_type': 'Residential Alteration', 'cost_approximate': '6240.00', 'permit_fee': '221.27', 'outside_city_limits': True, 'site_address': '3427 Westview Loop', 'contractor': 'Owner', 'hookup_fee': '', 'year': '2024', 'month': '05'}\n",
      "{'permit_number': 'RBP-24-24', 'applicant_name': 'Shirley Doten', 'construction_type': 'Residential Alteration', 'cost_approximate': '325.00', 'permit_fee': '36.00', 'outside_city_limits': True, 'site_address': '202 West Pine Street', 'contractor': 'Fireplaces, Stoves', 'hookup_fee': '', 'year': '2024', 'month': '05'}\n",
      "{'permit_number': 'RBP-24-25', 'applicant_name': 'Sean Sailor', 'construction_type': 'Residential Alteration', 'cost_approximate': '400.00', 'permit_fee': '90.00', 'outside_city_limits': '', 'site_address': '818 East Illinois Street', 'contractor': 'Owner', 'hookup_fee': '', 'year': '2024', 'month': '05'}\n",
      "{'permit_number': 'RBP-24-31', 'applicant_name': 'Kim Kringen', 'construction_type': 'Residential Alteration', 'cost_approximate': '10000.00', 'permit_fee': '66.00', 'outside_city_limits': '', 'site_address': '3307 11th Avenue', 'contractor': 'Mountain Air Mech', 'hookup_fee': '', 'year': '2024', 'month': '05'}\n",
      "{'permit_number': 'RBP-24-39', 'applicant_name': 'Roxy & Doug Schmit', 'construction_type': 'Residential Alteration', 'cost_approximate': '19600.00', 'permit_fee': '467.25', 'outside_city_limits': '', 'site_address': '306 Polley Drive', 'contractor': 'YHIC', 'hookup_fee': '', 'year': '2024', 'month': '05'}\n",
      "{'permit_number': 'RBP-24-14', 'applicant_name': 'Michael Myslinski', 'construction_type': 'Residential Deck', 'cost_approximate': '14345.10', 'permit_fee': '291.50', 'outside_city_limits': '', 'site_address': '730 Harvard Street', 'contractor': 'Owner', 'hookup_fee': '', 'year': '2024', 'month': '05'}\n",
      "{'permit_number': 'RBP-24-18', 'applicant_name': 'DT Isburg llc', 'construction_type': 'Residential Demolition', 'cost_approximate': '8000.00', 'permit_fee': '25.00', 'outside_city_limits': '', 'site_address': '414 North 7th Street, Unit 1', 'contractor': 'KDV inc', 'hookup_fee': '', 'year': '2024', 'month': '05'}\n",
      "{'permit_number': 'RBP-24-21', 'applicant_name': 'Stanley Lodahl', 'construction_type': 'Residential Garage', 'cost_approximate': '154056.00', 'permit_fee': '1343.60', 'outside_city_limits': True, 'site_address': '1516 North Rainbow Road', 'contractor': 'Morton Buildings', 'hookup_fee': '', 'year': '2024', 'month': '05'}\n",
      "{'permit_number': '240105', 'applicant_name': 'WILLIAMSON, SLADE', 'construction_type': 'RESIDENTIAL NEW BUILDING', 'cost_approximate': '275000.00', 'permit_fee': '2054.00', 'outside_city_limits': '', 'site_address': '3856 BEARTOOTH LOOP E', 'contractor': 'OWNER', 'hookup_fee': '3000.00', 'year': '2024', 'month': '05'}\n",
      "{'permit_number': '240111', 'applicant_name': 'WALTER, KEVIN', 'construction_type': 'RESIDENTIAL NEW BUILDING', 'cost_approximate': '750000.00', 'permit_fee': '3899.00', 'outside_city_limits': '', 'site_address': '7710 BROOKS LOOP', 'contractor': 'ROUTH', 'hookup_fee': '3000.00', 'year': '2024', 'month': '05'}\n",
      "{'permit_number': '240118', 'applicant_name': 'LUCKY LADIES LAND HOLDINGS', 'construction_type': 'RESIDENTIAL NEW BUILDING', 'cost_approximate': '600000.00', 'permit_fee': '3359.00', 'outside_city_limits': '', 'site_address': '7741 BROOKS LOOP', 'contractor': 'RCA', 'hookup_fee': '3000.00', 'year': '2024', 'month': '05'}\n",
      "{'permit_number': '240141', 'applicant_name': 'WALTERS, LORI', 'construction_type': 'RESIDENTIAL NEW BUILDING', 'cost_approximate': '400000.00', 'permit_fee': '1104.60', 'outside_city_limits': '', 'site_address': '3777 BEARTOOTH LOOP E', 'contractor': 'BIG CEDAR', 'hookup_fee': '', 'year': '2024', 'month': '05'}\n",
      "{'permit_number': 'RBP-24-3', 'applicant_name': 'High Plains Construction, Inc', 'construction_type': 'Residential New Building', 'cost_approximate': '600000.00', 'permit_fee': '4431.05', 'outside_city_limits': '', 'site_address': '2272 Top Shelf Avenue', 'contractor': 'High Plains', 'hookup_fee': '3000.00', 'year': '2024', 'month': '05'}\n"
     ]
    }
   ],
   "source": [
    "filepath_in = f'pdfs/{date}.pdf'\n",
    "filepath_out = f'data/{date}.csv'\n",
    "\n",
    "year, month = date.split('-')\n",
    "\n",
    "if os.path.exists(filepath_out):\n",
    "    raise Exception(f'CSV file exists! {filepath_out}')\n",
    "\n",
    "# open the PDF with pdfplumber\n",
    "with pdfplumber.open(filepath_in) as pdf:\n",
    "\n",
    "    # empty list to hold the extracted data\n",
    "    table_data = []\n",
    "\n",
    "    # loop over the PDF pages\n",
    "    for page in pdf.pages:\n",
    "\n",
    "        # some reports have 2 tables on the last page,\n",
    "        # so you need to make sure you end up with the first one\n",
    "        table = page.extract_tables()[0]\n",
    "\n",
    "        # add the data to the tracking list\n",
    "        if table:\n",
    "            table_data.extend(table)\n",
    "\n",
    "# an empty list to hold the parsed data\n",
    "data_parsed = []\n",
    "\n",
    "# records are split over two lines, so using sentinel vars\n",
    "# to guardrail populating a dict as you iterate\n",
    "current_record = {}\n",
    "\n",
    "# loop over the rows of raw data\n",
    "for line in table_data:\n",
    "\n",
    "    # using some string methods later, so want empty strings\n",
    "    # instead of None vals for blanks\n",
    "    line = [x or '' for x in line]\n",
    "\n",
    "    # skip empty rows\n",
    "    if not any(line):\n",
    "        continue\n",
    "\n",
    "    # see what the first value in the row is\n",
    "    first_value = line[0].lower()\n",
    "\n",
    "    # break if you get to a row with any\n",
    "    # of these terms are present in the first value\n",
    "    break_terms = [\n",
    "        'total',\n",
    "        'year-to-date',\n",
    "        'year to date',\n",
    "        'project',\n",
    "        '\\n',\n",
    "        'permits'\n",
    "    ]\n",
    "\n",
    "    if any([x in first_value.lower() for x in break_terms]):\n",
    "        break\n",
    "\n",
    "    # parse the line that begins with \"address\" --\n",
    "    # second line in the record\n",
    "    if first_value == 'address':\n",
    "        _, address,  _, contractor, _, hookup_fee = line\n",
    "\n",
    "        current_record['site_address'] = address\n",
    "\n",
    "        current_record['contractor'] = contractor\n",
    "        current_record['hookup_fee'] = hookup_fee\n",
    "        current_record['year'] = year\n",
    "        current_record['month'] = month\n",
    "\n",
    "        # clean up some garbage chars in the currency columns\n",
    "        for x in [' ', '$', ',', 'nofee', 'n/a', '-', 'waived']:\n",
    "            current_record['cost_approximate'] = current_record['cost_approximate'].lower().replace(x, '')\n",
    "            current_record['permit_fee'] = current_record['permit_fee'].lower().replace(x, '')\n",
    "            current_record['hookup_fee'] = current_record['hookup_fee'].lower().replace(x, '')\n",
    "\n",
    "        # we're done! print to let us know what's up\n",
    "        print(current_record)\n",
    "\n",
    "        # add the now-full dict to the main list\n",
    "        data_parsed.append(current_record)\n",
    "\n",
    "        # ... and reset the tracking dict\n",
    "        current_record = {}\n",
    "\n",
    "    # parse the first line of each record\n",
    "    else:\n",
    "        permit_id, applicant, const_type, _, cost, permit_fee = line\n",
    "\n",
    "        # break this out into its own var\n",
    "        outside_city_limits = ''\n",
    "    \n",
    "        if '*' in permit_id:\n",
    "            outside_city_limits = True\n",
    "    \n",
    "        permit_id = permit_id.replace('*', '')\n",
    "\n",
    "        current_record['permit_number'] = permit_id\n",
    "        current_record['applicant_name'] = applicant\n",
    "        current_record['construction_type'] = const_type\n",
    "        current_record['cost_approximate'] = cost\n",
    "        current_record['permit_fee'] = permit_fee\n",
    "        current_record['outside_city_limits'] = outside_city_limits"
   ]
  },
  {
   "cell_type": "code",
   "execution_count": 7,
   "id": "2110b785-aafe-447a-99cb-fccafb7da514",
   "metadata": {},
   "outputs": [],
   "source": [
    "data_parsed.append({\n",
    "    'permit_number': None,\n",
    "    'applicant_name': None,\n",
    "    'construction_type': None,\n",
    "    'cost_approximate': None,\n",
    "    'permit_fee': None,\n",
    "    'outside_city_limits': None,\n",
    "    'site_address': '2272 Top Shelf Avenue',\n",
    "    'contractor': 'High Plains',\n",
    "    'hookup_fee': 3000,\n",
    "    'year': '2024',\n",
    "    'month': '05'\n",
    "})"
   ]
  },
  {
   "cell_type": "code",
   "execution_count": 8,
   "id": "e38f38d6-c47f-4cd2-9d03-e7f1e0049447",
   "metadata": {},
   "outputs": [
    {
     "name": "stdout",
     "output_type": "stream",
     "text": [
      "Wrote 25 records to file: data/2024-05.csv\n"
     ]
    }
   ],
   "source": [
    "# write the records to file -- be sure to check the\n",
    "# record count against the live PDF and check for accuracy\n",
    "with open(filepath_out, 'w') as outfile:\n",
    "    writer = csv.DictWriter(outfile, fieldnames=csv_headers)\n",
    "    writer.writeheader()\n",
    "    writer.writerows(data_parsed)\n",
    "\n",
    "print(f'Wrote {len(data_parsed)} records to file: {filepath_out}')"
   ]
  },
  {
   "cell_type": "code",
   "execution_count": null,
   "id": "a6e49c37-f997-4d16-89aa-13cba78bd746",
   "metadata": {},
   "outputs": [],
   "source": []
  }
 ],
 "metadata": {
  "kernelspec": {
   "display_name": "Python 3 (ipykernel)",
   "language": "python",
   "name": "python3"
  },
  "language_info": {
   "codemirror_mode": {
    "name": "ipython",
    "version": 3
   },
   "file_extension": ".py",
   "mimetype": "text/x-python",
   "name": "python",
   "nbconvert_exporter": "python",
   "pygments_lexer": "ipython3",
   "version": "3.12.3"
  }
 },
 "nbformat": 4,
 "nbformat_minor": 5
}
