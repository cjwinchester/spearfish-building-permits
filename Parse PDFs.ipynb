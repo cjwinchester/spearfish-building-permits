{
 "cells": [
  {
   "cell_type": "markdown",
   "id": "75757f4d-6514-461e-a80e-3d9236152603",
   "metadata": {},
   "source": [
    "# Parse PDFs\n",
    "\n",
    "This notebook has code to parse a PDF file in the `pdfs` folder into a CSV file in the `data` folder. (I do these one month at a time, spot-checking the data as I go.)"
   ]
  },
  {
   "cell_type": "code",
   "execution_count": 1,
   "id": "19a9fe41-1e6a-47cf-8ffa-ee8adb6b9583",
   "metadata": {},
   "outputs": [],
   "source": [
    "import glob\n",
    "import os\n",
    "import csv\n",
    "\n",
    "import pdfplumber\n",
    "import pandas as pd\n",
    "\n",
    "from const import csv_headers"
   ]
  },
  {
   "cell_type": "code",
   "execution_count": 2,
   "id": "29a4586a-e353-46bc-bb39-9838d5fe556c",
   "metadata": {},
   "outputs": [
    {
     "name": "stdout",
     "output_type": "stream",
     "text": [
      "Downloaded pdfs/2024-10.pdf\n"
     ]
    }
   ],
   "source": [
    "%run download"
   ]
  },
  {
   "cell_type": "code",
   "execution_count": 3,
   "id": "689f1706-6123-4f1f-b95d-c993aa116a39",
   "metadata": {},
   "outputs": [],
   "source": [
    "date = '2024-10'"
   ]
  },
  {
   "cell_type": "code",
   "execution_count": 4,
   "id": "26730621-b619-4a94-8dcf-74ff968c14d0",
   "metadata": {
    "scrolled": true
   },
   "outputs": [
    {
     "name": "stdout",
     "output_type": "stream",
     "text": [
      "{'permit_number': 'CAA-24-7', 'applicant_name': 'Lantis Enterprises', 'construction_type': 'Commercial Alterations or Tenant Improvements', 'cost_approximate': '42000.00', 'permit_fee': '618.33', 'outside_city_limits': '', 'site_address': '4755 East Colorado Boulevard, Spearfish SD 57783', 'contractor': 'Leth Roofing, LLC', 'hookup_fee': '', 'year': '2024', 'month': '10'}\n",
      "{'permit_number': 'CAA-24-9', 'applicant_name': 'BADGERMAN LLC', 'construction_type': 'Commercial Alterations or Tenant Improvements', 'cost_approximate': '5328.49', 'permit_fee': '660.45', 'outside_city_limits': True, 'site_address': '387 1/2 Upper Valley Road', 'contractor': 'Homestead Custom Builders', 'hookup_fee': '', 'year': '2024', 'month': '10'}\n",
      "{'permit_number': 'CAA-24-12', 'applicant_name': 'Lighthouse Development LLC', 'construction_type': 'Commercial Alterations or Tenant Improvements', 'cost_approximate': '20000.00', 'permit_fee': '135.00', 'outside_city_limits': '', 'site_address': '3308 W FAIRGROUND LOOP , Unit 1,2,3,4, SPEARFISH SD 57783', 'contractor': 'Midwestern Mechanical Inc', 'hookup_fee': '', 'year': '2024', 'month': '10'}\n",
      "{'permit_number': 'CBP-24-30', 'applicant_name': 'A&W', 'construction_type': 'Commercial New Build or Addition', 'cost_approximate': '5800.00', 'permit_fee': '222.95', 'outside_city_limits': '', 'site_address': '3111 1st Avenue, Spearfish SD 57783', 'contractor': 'Summit Fire Protection Co.', 'hookup_fee': '', 'year': '2024', 'month': '10'}\n",
      "{'permit_number': 'CBP-24-32', 'applicant_name': 'Roger Riley', 'construction_type': 'Commercial New Build or Addition', 'cost_approximate': '1000.00', 'permit_fee': '389.60', 'outside_city_limits': '', 'site_address': '806 North Main Street, Spearfish SD 57783', 'contractor': 'Owner', 'hookup_fee': '', 'year': '2024', 'month': '10'}\n",
      "{'permit_number': 'CBP-24-39', 'applicant_name': 'PACIFIC STAINLESS PRODUCTS INC', 'construction_type': 'Commercial New Build or Addition', 'cost_approximate': '12998.00', 'permit_fee': '270.60', 'outside_city_limits': '', 'site_address': '80 Commerce Drive, Spearfish SD 57783', 'contractor': 'Baldwin Electric', 'hookup_fee': '', 'year': '2024', 'month': '10'}\n",
      "{'permit_number': 'CBP-24-41', 'applicant_name': 'Farnsworth Group', 'construction_type': 'Commercial New Build or Addition', 'cost_approximate': '119890.00', 'permit_fee': '1141.65', 'outside_city_limits': '', 'site_address': '3111 1st Avenue, Spearfish SD 57783', 'contractor': 'Rapid Fire Protection, Inc.', 'hookup_fee': '', 'year': '2024', 'month': '10'}\n",
      "{'permit_number': 'CBP-24-42', 'applicant_name': 'HARR, GLORIA J REVOCABLE TRUST', 'construction_type': 'Commercial New Build or Addition', 'cost_approximate': '28000.00', 'permit_fee': '535.47', 'outside_city_limits': '', 'site_address': '1625 RYAN RD , SPEARFISH SD 57783', 'contractor': 'EasTex Tower, LLC', 'hookup_fee': '', 'year': '2024', 'month': '10'}\n",
      "{'permit_number': 'RBP-24-125', 'applicant_name': 'Jan Bergstrom', 'construction_type': 'Manufactured MH Placement', 'cost_approximate': '240000.00', 'permit_fee': '50.00', 'outside_city_limits': '', 'site_address': '114 Vale Road, Spearfish SD 57783', 'contractor': 'Centennial Homes', 'hookup_fee': '', 'year': '2024', 'month': '10'}\n",
      "{'permit_number': 'RAA-24-11', 'applicant_name': 'Tammy Karlson', 'construction_type': 'Manufactured MH Placement', 'cost_approximate': '100000.00', 'permit_fee': '50.00', 'outside_city_limits': True, 'site_address': '311 Evans Lane, Spearfish SD 57783', 'contractor': 'Owner', 'hookup_fee': '', 'year': '2024', 'month': '10'}\n",
      "{'permit_number': 'RBP-24-60', 'applicant_name': 'Dave Petersen Construction LLC', 'construction_type': 'New Residential - One to Two Family Dwelling Construction', 'cost_approximate': '521776.22', 'permit_fee': '4217.89', 'outside_city_limits': '', 'site_address': '8130 Luke Court, Spearfish SD 57783', 'contractor': 'DAVE PETERSEN CONSTRUCTION LLC', 'hookup_fee': '3500.00', 'year': '2024', 'month': '10'}\n",
      "{'permit_number': 'RBP-24-131', 'applicant_name': 'Spearfish School District', 'construction_type': 'New Residential - One to Two Family Dwelling Construction', 'cost_approximate': '221663.04', 'permit_fee': '', 'outside_city_limits': '', 'site_address': '1725 North Main Street, Spearfish SD 57783', 'contractor': 'Owner', 'hookup_fee': '', 'year': '2024', 'month': '10'}\n",
      "{'permit_number': 'RND-24-1', 'applicant_name': 'Robert Douglas', 'construction_type': 'New Residential - One to Two Family Dwelling Construction', 'cost_approximate': '396627.92', 'permit_fee': '3676.94', 'outside_city_limits': '', 'site_address': '120 West Colorado Boulevard, Spearfish SD 57783', 'contractor': 'Carmichael Construction, LLC', 'hookup_fee': '3500.00', 'year': '2024', 'month': '10'}\n",
      "{'permit_number': 'RND-24-8', 'applicant_name': 'Todd Peterson', 'construction_type': 'New Residential - One to Two Family Dwelling Construction', 'cost_approximate': '478716.69', 'permit_fee': '3419.08', 'outside_city_limits': True, 'site_address': '3340 Eagle Ridge Rd', 'contractor': 'Winter Construction', 'hookup_fee': '', 'year': '2024', 'month': '10'}\n",
      "{'permit_number': 'RBP-24-126', 'applicant_name': 'Denny Haag', 'construction_type': 'New Residential - One to Two Family Dwelling Construction', 'cost_approximate': '827361.90', 'permit_fee': '5723.61', 'outside_city_limits': '', 'site_address': '1145 Woodland Drive, Spearfish SD 57783', 'contractor': 'Slate Ridge Builders', 'hookup_fee': '1750.00', 'year': '2024', 'month': '10'}\n",
      "{'permit_number': 'RBP-24-127', 'applicant_name': 'Greg Echols', 'construction_type': 'New Residential - One to Two Family Dwelling Construction', 'cost_approximate': '214033.10', 'permit_fee': '3591.80', 'outside_city_limits': '', 'site_address': '304 East Grant Street, Spearfish SD 57783', 'contractor': 'Munro Earthmoving LLC', 'hookup_fee': '', 'year': '2024', 'month': '10'}\n",
      "{'permit_number': 'RAA-24-1', 'applicant_name': 'Jacob Wendt', 'construction_type': 'Residential Additions/Alterations', 'cost_approximate': '63419.72', 'permit_fee': '781.45', 'outside_city_limits': '', 'site_address': '743 N 10TH ST , SPEARFISH SD 57783', 'contractor': 'Heinzerling Concrete', 'hookup_fee': '', 'year': '2024', 'month': '10'}\n",
      "{'permit_number': 'RAA-24-12', 'applicant_name': 'Sue Ames', 'construction_type': 'Residential Additions/Alterations', 'cost_approximate': '10948.00', 'permit_fee': '236.70', 'outside_city_limits': True, 'site_address': '535 Tinton Rd, Spearfish SD 57783', 'contractor': 'Advanced Builders Inc', 'hookup_fee': '', 'year': '2024', 'month': '10'}\n",
      "{'permit_number': 'RAA-24-14', 'applicant_name': 'PETS WITH PEOPLE RENTALS LLC', 'construction_type': 'Residential Additions/Alterations', 'cost_approximate': '500.00', 'permit_fee': '30.00', 'outside_city_limits': '', 'site_address': '702 E GRANT ST , SPEARFISH SD 57783', 'contractor': 'Designs by Darling', 'hookup_fee': '', 'year': '2024', 'month': '10'}\n",
      "{'permit_number': 'RAA-24-16', 'applicant_name': 'BOGARD, WILLIAM J REVOCABLE TRUST', 'construction_type': 'Residential Additions/Alterations', 'cost_approximate': '500.00', 'permit_fee': '36.00', 'outside_city_limits': '', 'site_address': '529 W JACKSON BLVD , SPEARFISH SD 57783', 'contractor': 'J&M Mechanical', 'hookup_fee': '', 'year': '2024', 'month': '10'}\n",
      "{'permit_number': 'RAA-24-3', 'applicant_name': 'Michael and Merna Schriber', 'construction_type': 'Residential Additions/Alterations', 'cost_approximate': '8300.00', 'permit_fee': '202.80', 'outside_city_limits': '', 'site_address': '275 Caddy Drive, Spearfish SD 57783', 'contractor': 'Your Home Improvement Company, LLC', 'hookup_fee': '', 'year': '2024', 'month': '10'}\n",
      "{'permit_number': 'RAA-24-4', 'applicant_name': 'Kim Greenlee', 'construction_type': 'Residential Additions/Alterations', 'cost_approximate': '13000.00', 'permit_fee': '270.60', 'outside_city_limits': True, 'site_address': '545 Mountain View, Spearfish SD 57783', 'contractor': 'Owner', 'hookup_fee': '', 'year': '2024', 'month': '10'}\n",
      "{'permit_number': 'RAA-24-5', 'applicant_name': 'David Langer', 'construction_type': 'Residential Additions/Alterations', 'cost_approximate': '57771.00', 'permit_fee': '740.65', 'outside_city_limits': '', 'site_address': '1001 33rd Street, Spearfish SD 57783', 'contractor': 'Owner', 'hookup_fee': '', 'year': '2024', 'month': '10'}\n",
      "{'permit_number': 'RAA-24-7', 'applicant_name': 'King Brown', 'construction_type': 'Residential Additions/Alterations', 'cost_approximate': '15000.00', 'permit_fee': '468.50', 'outside_city_limits': '', 'site_address': '110 Hardy Drive, Spearfish SD 57783', 'contractor': 'Owner', 'hookup_fee': '', 'year': '2024', 'month': '10'}\n",
      "{'permit_number': 'RAA-24-8', 'applicant_name': 'Olin Quissell', 'construction_type': 'Residential Additions/Alterations', 'cost_approximate': '19774.00', 'permit_fee': '389.25', 'outside_city_limits': True, 'site_address': '1555 Hillside Drive, Spearfish SD 57783', 'contractor': 'Owner', 'hookup_fee': '', 'year': '2024', 'month': '10'}\n",
      "{'permit_number': 'RAA-24-9', 'applicant_name': 'SD INVESTMENTS LLC', 'construction_type': 'Residential Additions/Alterations', 'cost_approximate': '40000.00', 'permit_fee': '891.85', 'outside_city_limits': '', 'site_address': '7939 BROOKS LOOP , SPEARFISH SD 57783', 'contractor': 'Black Hills Maintenance', 'hookup_fee': '', 'year': '2024', 'month': '10'}\n",
      "{'permit_number': 'RBP-24-138', 'applicant_name': 'Theresa Medina', 'construction_type': 'Residential Additions/Alterations', 'cost_approximate': '12000.00', 'permit_fee': '253.65', 'outside_city_limits': '', 'site_address': '433 North 12th Street, Spearfish SD 57783', 'contractor': 'Owner', 'hookup_fee': '', 'year': '2024', 'month': '10'}\n",
      "{'permit_number': 'RDC-24-2', 'applicant_name': 'First Baptist Church of the Northern Hills', 'construction_type': 'Residential Decks and Covered Patios', 'cost_approximate': '18486.72', 'permit_fee': '372.30', 'outside_city_limits': '', 'site_address': '1220 North Rainbow Road, Spearfish SD 57783', 'contractor': 'Owner', 'hookup_fee': '', 'year': '2024', 'month': '10'}\n",
      "{'permit_number': 'RDC-24-3', 'applicant_name': 'GUTHMILLER, JASON J', 'construction_type': 'Residential Decks and Covered Patios', 'cost_approximate': '10270.40', 'permit_fee': '236.70', 'outside_city_limits': '', 'site_address': '810 STATE ST , SPEARFISH SD 57783', 'contractor': 'Owner', 'hookup_fee': '', 'year': '2024', 'month': '10'}\n",
      "{'permit_number': 'PMG-24-9', 'applicant_name': 'Devin wolter', 'construction_type': 'Standalone Permits - Plumbing, Mechanical, Gas', 'cost_approximate': '', 'permit_fee': '51.00', 'outside_city_limits': '', 'site_address': '434 8TH ST , SPEARFISH SD 57783', 'contractor': 'Owner', 'hookup_fee': '', 'year': '2024', 'month': '10'}\n",
      "{'permit_number': 'PMG-24-12', 'applicant_name': 'FYSTRO, TERRY R & CARLA K', 'construction_type': 'Standalone Permits - Plumbing, Mechanical, Gas', 'cost_approximate': '5000.00', 'permit_fee': '33.00', 'outside_city_limits': '', 'site_address': '817 E HUDSON CIR , SPEARFISH SD 57783', 'contractor': 'Star Plumbing', 'hookup_fee': '', 'year': '2024', 'month': '10'}\n",
      "{'permit_number': 'PMG-24-14', 'applicant_name': 'Steve Johnson', 'construction_type': 'Standalone Permits - Plumbing, Mechanical, Gas', 'cost_approximate': '1000.00', 'permit_fee': '51.00', 'outside_city_limits': '', 'site_address': '340 Highway 14 , Spearfish SD 57783', 'contractor': 'The Plumber Inc', 'hookup_fee': '', 'year': '2024', 'month': '10'}\n",
      "{'permit_number': 'PMG-24-16', 'applicant_name': 'Julie Burke', 'construction_type': 'Standalone Permits - Plumbing, Mechanical, Gas', 'cost_approximate': '150.00', 'permit_fee': '36.00', 'outside_city_limits': '', 'site_address': '2509 WINDMILL DR , Unit 704, SPEARFISH SD 57783', 'contractor': 'Johnson Plumbing', 'hookup_fee': '', 'year': '2024', 'month': '10'}\n",
      "{'permit_number': 'PMG-24-17', 'applicant_name': 'David Kimball', 'construction_type': 'Standalone Permits - Plumbing, Mechanical, Gas', 'cost_approximate': '200.00', 'permit_fee': '46.00', 'outside_city_limits': '', 'site_address': '185 Oak Ridge Road, Spearfish SD 57783', 'contractor': 'Johnson Plumbing', 'hookup_fee': '', 'year': '2024', 'month': '10'}\n",
      "{'permit_number': 'PMG-24-18', 'applicant_name': 'Jim Schuricht', 'construction_type': 'Standalone Permits - Plumbing, Mechanical, Gas', 'cost_approximate': '8317.00', 'permit_fee': '76.00', 'outside_city_limits': '', 'site_address': '208 Union St, Spearfish SD 57783', 'contractor': 'Home Run Services LLC', 'hookup_fee': '', 'year': '2024', 'month': '10'}\n"
     ]
    }
   ],
   "source": [
    "filepath_in = f'pdfs/{date}.pdf'\n",
    "filepath_out = f'data/{date}.csv'\n",
    "\n",
    "year, month = date.split('-')\n",
    "\n",
    "if os.path.exists(filepath_out):\n",
    "    raise Exception(f'CSV file exists! {filepath_out}')\n",
    "\n",
    "# open the PDF with pdfplumber\n",
    "with pdfplumber.open(filepath_in) as pdf:\n",
    "\n",
    "    # empty list to hold the extracted data\n",
    "    table_data = []\n",
    "\n",
    "    # loop over the PDF pages\n",
    "    for page in pdf.pages:\n",
    "\n",
    "        # some reports have 2 tables on the last page,\n",
    "        # so you need to make sure you end up with the first one\n",
    "        table = page.extract_tables()[0]\n",
    "\n",
    "        # add the data to the tracking list\n",
    "        if table:\n",
    "            table_data.extend(table)\n",
    "\n",
    "# an empty list to hold the parsed data\n",
    "data_parsed = []\n",
    "\n",
    "# records are split over two lines, so using sentinel vars\n",
    "# to guardrail populating a dict as you iterate\n",
    "current_record = {}\n",
    "\n",
    "# loop over the rows of raw data\n",
    "for line in table_data:\n",
    "\n",
    "    # using some string methods later, so want empty strings\n",
    "    # instead of None vals for blanks\n",
    "    line = [x or '' for x in line]\n",
    "\n",
    "    # skip empty rows\n",
    "    if not any(line):\n",
    "        continue\n",
    "\n",
    "    # see what the first value in the row is\n",
    "    first_value = line[0].lower()\n",
    "\n",
    "    # break if you get to a row with any\n",
    "    # of these terms are present in the first value\n",
    "    break_terms = [\n",
    "        'total',\n",
    "        'year-to-date',\n",
    "        'year to date',\n",
    "        'project',\n",
    "        '\\n',\n",
    "        'permits'\n",
    "    ]\n",
    "\n",
    "    if any([x in first_value.lower() for x in break_terms]):\n",
    "        break\n",
    "\n",
    "    # parse the line that begins with \"address\" --\n",
    "    # second line in the record\n",
    "    if first_value == 'address':\n",
    "        _, address,  _, contractor, _, hookup_fee = line\n",
    "\n",
    "        current_record['site_address'] = address\n",
    "\n",
    "        current_record['contractor'] = contractor\n",
    "        current_record['hookup_fee'] = hookup_fee\n",
    "        current_record['year'] = year\n",
    "        current_record['month'] = month\n",
    "\n",
    "        # clean up some garbage chars in the currency columns\n",
    "        for x in [' ', '$', ',', 'nofee', 'n/a', '-', 'waived']:\n",
    "            current_record['cost_approximate'] = current_record['cost_approximate'].lower().replace(x, '')\n",
    "            current_record['permit_fee'] = current_record['permit_fee'].lower().replace(x, '')\n",
    "            current_record['hookup_fee'] = current_record['hookup_fee'].lower().replace(x, '')\n",
    "\n",
    "        # we're done! print to let us know what's up\n",
    "        print(current_record)\n",
    "\n",
    "        # add the now-full dict to the main list\n",
    "        data_parsed.append(current_record)\n",
    "\n",
    "        # ... and reset the tracking dict\n",
    "        current_record = {}\n",
    "\n",
    "    # parse the first line of each record\n",
    "    else:\n",
    "        permit_id, applicant, const_type, _, cost, permit_fee = line\n",
    "\n",
    "        # break this out into its own var\n",
    "        outside_city_limits = ''\n",
    "    \n",
    "        if '*' in permit_id:\n",
    "            outside_city_limits = True\n",
    "    \n",
    "        permit_id = permit_id.replace('*', '')\n",
    "\n",
    "        current_record['permit_number'] = permit_id\n",
    "        current_record['applicant_name'] = applicant\n",
    "        current_record['construction_type'] = const_type\n",
    "        current_record['cost_approximate'] = cost\n",
    "        current_record['permit_fee'] = permit_fee\n",
    "        current_record['outside_city_limits'] = outside_city_limits"
   ]
  },
  {
   "cell_type": "code",
   "execution_count": 5,
   "id": "e38f38d6-c47f-4cd2-9d03-e7f1e0049447",
   "metadata": {},
   "outputs": [
    {
     "name": "stdout",
     "output_type": "stream",
     "text": [
      "Wrote 35 records to file: data/2024-10.csv\n"
     ]
    }
   ],
   "source": [
    "# write the records to file -- be sure to check the\n",
    "# record count against the live PDF and check for accuracy\n",
    "with open(filepath_out, 'w') as outfile:\n",
    "    writer = csv.DictWriter(outfile, fieldnames=csv_headers)\n",
    "    writer.writeheader()\n",
    "    writer.writerows(data_parsed)\n",
    "\n",
    "print(f'Wrote {len(data_parsed)} records to file: {filepath_out}')"
   ]
  },
  {
   "cell_type": "code",
   "execution_count": 6,
   "id": "2630e43d-c810-4bda-8c51-40ef383b69e8",
   "metadata": {},
   "outputs": [
    {
     "name": "stdout",
     "output_type": "stream",
     "text": [
      "Wrote 5,134 permit records to file: spearfish-building-permits.csv\n"
     ]
    }
   ],
   "source": [
    "%run combine"
   ]
  }
 ],
 "metadata": {
  "kernelspec": {
   "display_name": "Python 3 (ipykernel)",
   "language": "python",
   "name": "python3"
  },
  "language_info": {
   "codemirror_mode": {
    "name": "ipython",
    "version": 3
   },
   "file_extension": ".py",
   "mimetype": "text/x-python",
   "name": "python",
   "nbconvert_exporter": "python",
   "pygments_lexer": "ipython3",
   "version": "3.12.7"
  }
 },
 "nbformat": 4,
 "nbformat_minor": 5
}
