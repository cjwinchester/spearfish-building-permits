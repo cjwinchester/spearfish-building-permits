{
 "cells": [
  {
   "cell_type": "markdown",
   "id": "75757f4d-6514-461e-a80e-3d9236152603",
   "metadata": {},
   "source": [
    "# Parse PDFs\n",
    "\n",
    "This notebook has code to parse a PDF file in the `pdfs` folder into a CSV file in the `data` folder. (I do these one month at a time, spot-checking the data as I go.)"
   ]
  },
  {
   "cell_type": "code",
   "execution_count": 3,
   "id": "19a9fe41-1e6a-47cf-8ffa-ee8adb6b9583",
   "metadata": {},
   "outputs": [],
   "source": [
    "import glob\n",
    "import os\n",
    "import csv\n",
    "\n",
    "import pdfplumber\n",
    "import pandas as pd\n",
    "\n",
    "from const import csv_headers, address_fixes"
   ]
  },
  {
   "cell_type": "code",
   "execution_count": null,
   "id": "29a4586a-e353-46bc-bb39-9838d5fe556c",
   "metadata": {},
   "outputs": [],
   "source": [
    "%run download"
   ]
  },
  {
   "cell_type": "code",
   "execution_count": 4,
   "id": "689f1706-6123-4f1f-b95d-c993aa116a39",
   "metadata": {},
   "outputs": [],
   "source": [
    "date = '2025-04'"
   ]
  },
  {
   "cell_type": "code",
   "execution_count": 5,
   "id": "26730621-b619-4a94-8dcf-74ff968c14d0",
   "metadata": {
    "scrolled": true
   },
   "outputs": [
    {
     "name": "stdout",
     "output_type": "stream",
     "text": [
      "{'site_address': '544 MAIN ST, SPEARFISH, SD 57783', 'contractor': 'Rapid Fire Protection', 'year': '2025', 'month': '04', 'permit_number': 'CAA-24-13', 'applicant_name': 'Casey Baldwin', 'construction_type': 'Commercial Alterations, Additions, or Tenant Improvements', 'cost_approximate': 23260.0, 'permit_fee': 754.13, 'hookup_fee': '', 'outside_city_limits': False}\n",
      "{'site_address': '3025 1st Avenue, Unit Suite 2&3, Spearfish, SD 57783', 'contractor': 'Robinson Builders Inc', 'year': '2025', 'month': '04', 'permit_number': 'CAA-25-11', 'applicant_name': 'Jerry Robinson', 'construction_type': 'Commercial Alterations, Additions, or Tenant Improvements', 'cost_approximate': 123687.0, 'permit_fee': 1164.73, 'hookup_fee': '', 'outside_city_limits': False}\n",
      "{'site_address': '1400 NORTH AVE, SPEARFISH, SD 57783', 'contractor': 'Black Hills Exteriors', 'year': '2025', 'month': '04', 'permit_number': 'CAA-25-20', 'applicant_name': 'Janet Zetah', 'construction_type': 'Commercial Alterations, Additions, or Tenant Improvements', 'cost_approximate': 7596.0, 'permit_fee': 185.85, 'hookup_fee': '', 'outside_city_limits': False}\n",
      "{'site_address': '145 East Hudson Street, Spearfish, SD 57783', 'contractor': 'Owner', 'year': '2025', 'month': '04', 'permit_number': 'CAA-25-24', 'applicant_name': 'corey brost', 'construction_type': 'Commercial Alterations, Additions, or Tenant Improvements', 'cost_approximate': 17000.0, 'permit_fee': 149.13, 'hookup_fee': '', 'outside_city_limits': False}\n",
      "{'site_address': '344 W JACKSON BLVD, SPEARFISH, SD 57783', 'contractor': 'Atlas Exteriors', 'year': '2025', 'month': '04', 'permit_number': 'CAA-25-26', 'applicant_name': 'Carl Wellford', 'construction_type': 'Commercial Alterations, Additions, or Tenant Improvements', 'cost_approximate': 20000.0, 'permit_fee': 389.25, 'hookup_fee': '', 'outside_city_limits': False}\n",
      "{'site_address': '5525 US Highway 85, Spearfish, SD 57783', 'contractor': 'Owner', 'year': '2025', 'month': '04', 'permit_number': 'CAA-25-6', 'applicant_name': 'George King', 'construction_type': 'Commercial Alterations, Additions, or Tenant Improvements', 'cost_approximate': 22000.0, 'permit_fee': '-', 'hookup_fee': '', 'outside_city_limits': True}\n",
      "{'site_address': '80 Commerce Drive, Spearfish, SD 57783', 'contractor': 'Rapid Fire Protection', 'year': '2025', 'month': '04', 'permit_number': 'CAA-25-8', 'applicant_name': 'Michael Moken', 'construction_type': 'Commercial Alterations, Additions, or Tenant Improvements', 'cost_approximate': 15000.0, 'permit_fee': 304.5, 'hookup_fee': '', 'outside_city_limits': False}\n",
      "{'site_address': '846 MAIN ST, SPEARFISH, SD 57783', 'contractor': 'Heavy Constructors Inc', 'year': '2025', 'month': '04', 'permit_number': 'CNC-25-6', 'applicant_name': 'Skylar Huschka', 'construction_type': 'Commercial New Construction', 'cost_approximate': 250000.0, 'permit_fee': 2391.75, 'hookup_fee': '', 'outside_city_limits': False}\n",
      "{'site_address': 'Aviation Pl, Unit 254, Spearfish, SD 57783', 'contractor': 'High Country Erectors', 'year': '2025', 'month': '04', 'permit_number': 'CNC-25-7', 'applicant_name': 'Chase Palo', 'construction_type': 'Commercial New Construction', 'cost_approximate': 750000.0, 'permit_fee': 4586.27, 'hookup_fee': '', 'outside_city_limits': False}\n",
      "{'site_address': 'Aviation Pl, Unit 449, Spearfish, SD 57783', 'contractor': 'Woelber Excavating LLC', 'year': '2025', 'month': '04', 'permit_number': 'NCM-25-5', 'applicant_name': 'John Lausser', 'construction_type': 'Commercial New Construction', 'cost_approximate': 420000.0, 'permit_fee': 3068.83, 'hookup_fee': '', 'outside_city_limits': False}\n",
      "{'site_address': '1410 North Avenue, Spearfish, SD 57783', 'contractor': 'Donovan Plumbing LLC', 'year': '2025', 'month': '04', 'permit_number': 'PMG-25-10', 'applicant_name': 'Theresa Medina', 'construction_type': 'Standalone Permits - Plumbing, Mechanical, Gas', 'cost_approximate': 80000.0, 'permit_fee': 43.0, 'hookup_fee': '', 'outside_city_limits': False}\n",
      "{'site_address': '257 Aurora Ave, Spearfish, SD 57783', 'contractor': 'One Way Service Pros', 'year': '2025', 'month': '04', 'permit_number': 'PMG-25-11', 'applicant_name': 'Jeff Rath', 'construction_type': 'Standalone Permits - Plumbing, Mechanical, Gas', 'cost_approximate': '-', 'permit_fee': 23.0, 'hookup_fee': '', 'outside_city_limits': False}\n",
      "{'site_address': '215 INDUSTRIAL DR, SPEARFISH, SD 57783', 'contractor': 'Waterworks Plumbing Inc', 'year': '2025', 'month': '04', 'permit_number': 'PMG-25-12', 'applicant_name': 'Alex Johnson', 'construction_type': 'Standalone Permits - Plumbing, Mechanical, Gas', 'cost_approximate': 300.0, 'permit_fee': 287.0, 'hookup_fee': '', 'outside_city_limits': False}\n",
      "{'site_address': '517 N MAIN ST, SPEARFISH, SD 57783', 'contractor': 'Donovan Plumbing LLC', 'year': '2025', 'month': '04', 'permit_number': 'PMG-25-9', 'applicant_name': 'Emily Ahrendt', 'construction_type': 'Standalone Permits - Plumbing, Mechanical, Gas', 'cost_approximate': 350.0, 'permit_fee': 53.0, 'hookup_fee': '', 'outside_city_limits': False}\n",
      "{'site_address': '130 Timberline Rd, Spearfish, SD 57783', 'contractor': 'Owner', 'year': '2025', 'month': '04', 'permit_number': 'RAA-25-14', 'applicant_name': 'Jason Carlson', 'construction_type': 'Residential Additions or Alterations', 'cost_approximate': 300000.0, 'permit_fee': 2229.25, 'hookup_fee': '', 'outside_city_limits': True}\n",
      "{'site_address': '316 Upper Valley Rd, Spearfish, SD 57783', 'contractor': 'Hemeyer Construction', 'year': '2025', 'month': '04', 'permit_number': 'RAA-25-15', 'applicant_name': 'Cody Hemeyer', 'construction_type': 'Residential Additions or Alterations', 'cost_approximate': 138498.0, 'permit_fee': 1300.28, 'hookup_fee': '', 'outside_city_limits': True}\n",
      "{'site_address': '240 E KANSAS ST, SPEARFISH, SD 57783', 'contractor': 'Owner', 'year': '2025', 'month': '04', 'permit_number': 'RAA-25-19', 'applicant_name': 'Thomas Myers', 'construction_type': 'Residential Additions or Alterations', 'cost_approximate': 35000.0, 'permit_fee': 558.82, 'hookup_fee': '', 'outside_city_limits': False}\n",
      "{'site_address': '1041 STATE ST, SPEARFISH, SD 57783', 'contractor': 'MAS Enterprises', 'year': '2025', 'month': '04', 'permit_number': 'RAA-25-26', 'applicant_name': 'Amber Symonds', 'construction_type': 'Residential Additions or Alterations', 'cost_approximate': 1500.0, 'permit_fee': 66.11, 'hookup_fee': '', 'outside_city_limits': False}\n",
      "{'site_address': '925 WOODLAND DR, SPEARFISH, SD 57783', 'contractor': 'DML Construction', 'year': '2025', 'month': '04', 'permit_number': 'RAA-25-28', 'applicant_name': 'Nicholas Stepanek', 'construction_type': 'Residential Additions or Alterations', 'cost_approximate': 10802.0, 'permit_fee': 236.71, 'hookup_fee': '', 'outside_city_limits': False}\n",
      "{'site_address': '4225 Old Belle Rd, Spearfish, SD 57783', 'contractor': 'MCD Construction Services LLC', 'year': '2025', 'month': '04', 'permit_number': 'RAA-25-29', 'applicant_name': 'Mike Delahoyde', 'construction_type': 'Residential Additions or Alterations', 'cost_approximate': 369734.4, 'permit_fee': 2584.15, 'hookup_fee': '', 'outside_city_limits': True}\n",
      "{'site_address': '926 VERDALE DR, SPEARFISH, SD 57783', 'contractor': 'Owner', 'year': '2025', 'month': '04', 'permit_number': 'RAA-25-31', 'applicant_name': 'Dale Hettick', 'construction_type': 'Residential Additions or Alterations', 'cost_approximate': 33794.88, 'permit_fee': 276.28, 'hookup_fee': '', 'outside_city_limits': False}\n",
      "{'site_address': '646 HARVARD ST, SPEARFISH, SD 57783', 'contractor': 'Owner', 'year': '2025', 'month': '04', 'permit_number': 'RAA-25-32', 'applicant_name': 'Eric Schlimgen', 'construction_type': 'Residential Additions or Alterations', 'cost_approximate': 44808.39, 'permit_fee': 655.18, 'hookup_fee': '', 'outside_city_limits': False}\n",
      "{'site_address': '498 BUTTERCUP CT, SPEARFISH, SD 57783', 'contractor': 'Owner', 'year': '2025', 'month': '04', 'permit_number': 'RAA-25-7', 'applicant_name': 'Philip Melmer', 'construction_type': 'Residential Additions or Alterations', 'cost_approximate': 30000.0, 'permit_fee': 569.45, 'hookup_fee': '', 'outside_city_limits': False}\n",
      "{'site_address': '2410 WOODLAND LOOP, SPEARFISH, SD 57783', 'contractor': 'Excel Construction LLC', 'year': '2025', 'month': '04', 'permit_number': 'RDC-25-5', 'applicant_name': 'Randy Lake', 'construction_type': 'Residential Decks, Covered Patios, or Fences', 'cost_approximate': 25968.0, 'permit_fee': 214.53, 'hookup_fee': '', 'outside_city_limits': False}\n",
      "{'site_address': '6025 E COLORADO BLVD, SPEARFISH, SD 57783', 'contractor': 'Owner', 'year': '2025', 'month': '04', 'permit_number': 'RDP-25-3', 'applicant_name': 'Lorri Riley', 'construction_type': 'Residential Demolition', 'cost_approximate': 45000.0, 'permit_fee': 50.0, 'hookup_fee': '', 'outside_city_limits': False}\n",
      "{'site_address': '325 N 3RD ST, SPEARFISH, SD 57783', 'contractor': 'Cousin Construction', 'year': '2025', 'month': '04', 'permit_number': 'RDP-25-4', 'applicant_name': 'Ronald Lyon', 'construction_type': 'Residential Demolition', 'cost_approximate': 20749.0, 'permit_fee': 50.0, 'hookup_fee': '', 'outside_city_limits': False}\n",
      "{'site_address': '414 North 7th Street, Spearfish, SD 57783', 'contractor': 'TC Construction', 'year': '2025', 'month': '04', 'permit_number': 'RNC-25-38', 'applicant_name': 'Traci Isburg', 'construction_type': 'Residential New Construction', 'cost_approximate': 324999.0, 'permit_fee': 1258.37, 'hookup_fee': '', 'outside_city_limits': False}\n",
      "{'site_address': '1695 Oak Crest Court, Spearfish, SD 57783', 'contractor': 'High Plains Construction Inc', 'year': '2025', 'month': '04', 'permit_number': 'RNC-25-40', 'applicant_name': 'Jessi Hughes', 'construction_type': 'Residential New Construction', 'cost_approximate': 600000.0, 'permit_fee': 6295.98, 'hookup_fee': '', 'outside_city_limits': False}\n",
      "{'site_address': '10576 Cedar Berry Circle, Spearfish, SD 57783', 'contractor': 'Marcus Custom Builders', 'year': '2025', 'month': '04', 'permit_number': 'RND-25-2', 'applicant_name': 'Jason Marcus', 'construction_type': 'Residential New Construction', 'cost_approximate': 1000000.0, 'permit_fee': 4842.71, 'hookup_fee': '', 'outside_city_limits': True}\n",
      "{'site_address': '32 Lantern Cir, Spearfish, SD 57783', 'contractor': 'Rapid Exteriors', 'year': '2025', 'month': '04', 'permit_number': 'RND-25-9', 'applicant_name': 'Chad Truax', 'construction_type': 'Residential New Construction', 'cost_approximate': 180000.0, 'permit_fee': 2090.07, 'hookup_fee': '', 'outside_city_limits': True}\n"
     ]
    }
   ],
   "source": [
    "filepath_in = f'pdfs/{date}.pdf'\n",
    "filepath_out = f'data/{date}.csv'\n",
    "\n",
    "year, month = date.split('-')\n",
    "\n",
    "if os.path.exists(filepath_out):\n",
    "    raise Exception(f'CSV file exists! {filepath_out}')\n",
    "\n",
    "# open the PDF with pdfplumber\n",
    "with pdfplumber.open(filepath_in) as pdf:\n",
    "\n",
    "    # empty list to hold the extracted data\n",
    "    table_data = []\n",
    "\n",
    "    # loop over the PDF pages\n",
    "    for page in pdf.pages:\n",
    "\n",
    "        # some reports have 2 tables on the last page,\n",
    "        # so you need to make sure you end up with the first one\n",
    "        table = page.extract_tables()[0] \n",
    "\n",
    "        # add the data to the tracking list\n",
    "        if table:\n",
    "            table_data.extend(table)\n",
    "\n",
    "# an empty list to hold the parsed data\n",
    "data_parsed = []\n",
    "\n",
    "# new style of reports starting january 2025\n",
    "# loop over the rows of raw data\n",
    "for line in table_data[1:]:\n",
    "\n",
    "    # skip empty rows\n",
    "    if not any(line):\n",
    "        continue\n",
    "\n",
    "    if 'permits issued' in line[0].lower():\n",
    "        break\n",
    "\n",
    "    if  len(line) < 8:\n",
    "        continue\n",
    "\n",
    "    permit_id, applicant, address, const_type, valuation, permit_fee, contractor, jurisdiction = line\n",
    "\n",
    "    if jurisdiction.lower().strip() == 'city':\n",
    "        outside = False\n",
    "    else:\n",
    "        outside = True\n",
    "\n",
    "    cost_approx = \"\".join(\n",
    "        valuation.replace('$', '').replace(',', '').split()        \n",
    "    )\n",
    "\n",
    "    if cost_approx and cost_approx != \"-\":\n",
    "        cost_approx = float(cost_approx)\n",
    "    \n",
    "    permit_fee = \"\".join(\n",
    "        permit_fee.replace('$', '').replace(',', '').split()        \n",
    "    )\n",
    "\n",
    "    if permit_fee and permit_fee != \"-\":\n",
    "        permit_fee = float(permit_fee)\n",
    "\n",
    "    data = {\n",
    "        'site_address': ' '.join(address.split()),\n",
    "        'contractor': ' '.join(contractor.split()),\n",
    "        'year': year,\n",
    "        'month': month,\n",
    "        'permit_number': permit_id,\n",
    "        'applicant_name': ' '.join(applicant.split()),\n",
    "        'construction_type': ' '.join(const_type.split()),\n",
    "        'cost_approximate': cost_approx,\n",
    "        'permit_fee': permit_fee,\n",
    "        'hookup_fee': '',\n",
    "        'outside_city_limits': outside\n",
    "    }\n",
    "\n",
    "    print(data)\n",
    "    \n",
    "    data_parsed.append(data)"
   ]
  },
  {
   "cell_type": "code",
   "execution_count": 7,
   "id": "e38f38d6-c47f-4cd2-9d03-e7f1e0049447",
   "metadata": {},
   "outputs": [
    {
     "name": "stdout",
     "output_type": "stream",
     "text": [
      "Wrote 30 records to file: data/2025-04.csv\n"
     ]
    }
   ],
   "source": [
    "# write the records to file -- be sure to check the\n",
    "# record count against the live PDF and check for accuracy\n",
    "with open(filepath_out, 'w') as outfile:\n",
    "    writer = csv.DictWriter(outfile, fieldnames=csv_headers)\n",
    "    writer.writeheader()\n",
    "    writer.writerows(data_parsed)\n",
    "\n",
    "print(f'Wrote {len(data_parsed)} records to file: {filepath_out}')"
   ]
  },
  {
   "cell_type": "code",
   "execution_count": 2,
   "id": "2630e43d-c810-4bda-8c51-40ef383b69e8",
   "metadata": {
    "scrolled": true
   },
   "outputs": [
    {
     "name": "stdout",
     "output_type": "stream",
     "text": [
      "Wrote 5,229 permit records to file: spearfish-building-permits.csv\n"
     ]
    }
   ],
   "source": [
    "%run combine"
   ]
  },
  {
   "cell_type": "code",
   "execution_count": null,
   "id": "fcc62ec5-8175-4aa3-80f0-2e21bed73e90",
   "metadata": {},
   "outputs": [],
   "source": []
  }
 ],
 "metadata": {
  "kernelspec": {
   "display_name": "Python 3 (ipykernel)",
   "language": "python",
   "name": "python3"
  },
  "language_info": {
   "codemirror_mode": {
    "name": "ipython",
    "version": 3
   },
   "file_extension": ".py",
   "mimetype": "text/x-python",
   "name": "python",
   "nbconvert_exporter": "python",
   "pygments_lexer": "ipython3",
   "version": "3.12.9"
  }
 },
 "nbformat": 4,
 "nbformat_minor": 5
}
