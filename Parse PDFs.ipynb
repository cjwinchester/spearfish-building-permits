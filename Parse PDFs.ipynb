{
 "cells": [
  {
   "cell_type": "markdown",
   "id": "75757f4d-6514-461e-a80e-3d9236152603",
   "metadata": {},
   "source": [
    "# Parse PDFs\n",
    "\n",
    "This notebook has code to parse a PDF file in the `pdfs` folder into a CSV file in the `data` folder. (I do these one month at a time, spot-checking the data as I go.)"
   ]
  },
  {
   "cell_type": "code",
   "execution_count": 1,
   "id": "19a9fe41-1e6a-47cf-8ffa-ee8adb6b9583",
   "metadata": {},
   "outputs": [],
   "source": [
    "import glob\n",
    "import os\n",
    "import csv\n",
    "\n",
    "import pdfplumber\n",
    "import pandas as pd\n",
    "\n",
    "from const import csv_headers"
   ]
  },
  {
   "cell_type": "code",
   "execution_count": 2,
   "id": "29a4586a-e353-46bc-bb39-9838d5fe556c",
   "metadata": {},
   "outputs": [
    {
     "name": "stdout",
     "output_type": "stream",
     "text": [
      "Downloaded pdfs/2024-11.pdf\n"
     ]
    }
   ],
   "source": [
    "%run download"
   ]
  },
  {
   "cell_type": "code",
   "execution_count": 3,
   "id": "689f1706-6123-4f1f-b95d-c993aa116a39",
   "metadata": {},
   "outputs": [],
   "source": [
    "date = '2024-11'"
   ]
  },
  {
   "cell_type": "code",
   "execution_count": 4,
   "id": "26730621-b619-4a94-8dcf-74ff968c14d0",
   "metadata": {
    "scrolled": true
   },
   "outputs": [
    {
     "name": "stdout",
     "output_type": "stream",
     "text": [
      "{'permit_number': 'CAA-24-2', 'applicant_name': 'Dave Fremont', 'construction_type': 'Commercial Alterations or Tenant Improvements', 'cost_approximate': '380250.00', 'permit_fee': '1528.23', 'outside_city_limits': '', 'site_address': '917 Johnson Lane, Spearfish SD 57783', 'contractor': 'Owner', 'hookup_fee': '', 'year': '2024', 'month': '11'}\n",
      "{'permit_number': 'CAA-24-10', 'applicant_name': 'OWENS, LOIS KATHRYN', 'construction_type': 'Commercial Alterations or Tenant Improvements', 'cost_approximate': '21237.00', 'permit_fee': '423.15', 'outside_city_limits': '', 'site_address': '1131 ST JOE ST , SPEARFISH SD 57783', 'contractor': 'THM Construction, LLC', 'hookup_fee': '', 'year': '2024', 'month': '11'}\n",
      "{'permit_number': 'CAA-24-11', 'applicant_name': \"Guadalaraja's Mexican Restaurant\", 'construction_type': 'Commercial Alterations or Tenant Improvements', 'cost_approximate': '17078.00', 'permit_fee': '355.35', 'outside_city_limits': True, 'site_address': '83 Highway 14 , Spearfish SD 57783', 'contractor': 'Advanced Builders Inc', 'hookup_fee': '', 'year': '2024', 'month': '11'}\n",
      "{'permit_number': 'CAA-24-16', 'applicant_name': 'City of Spearfish', 'construction_type': 'Commercial Alterations or Tenant Improvements', 'cost_approximate': '4203.00', 'permit_fee': '', 'outside_city_limits': '', 'site_address': '560 Aviation Pl, Spearfish SD 57783', 'contractor': 'Climate Control Systems & Service, LLC', 'hookup_fee': '', 'year': '2024', 'month': '11'}\n",
      "{'permit_number': 'CBP-24-13', 'applicant_name': 'Scull Construction Services', 'construction_type': 'Commercial New Build or Addition', 'cost_approximate': '12500.00', 'permit_fee': '270.60', 'outside_city_limits': '', 'site_address': '1410 North Avenue, Unit 2, Spearfish SD 57783', 'contractor': 'Scull Construction Services', 'hookup_fee': '', 'year': '2024', 'month': '11'}\n",
      "{'permit_number': 'CBP-24-40', 'applicant_name': 'GRANARY LLC', 'construction_type': 'Commercial New Build or Addition', 'cost_approximate': '1273949.10', 'permit_fee': '15909.65', 'outside_city_limits': '', 'site_address': '2541 YUKON PL , SPEARFISH SD 57783', 'contractor': 'Lloyd Construction Company', 'hookup_fee': '', 'year': '2024', 'month': '11'}\n",
      "{'permit_number': 'PMG-24-11', 'applicant_name': 'BEEDLE, ALICIA K', 'construction_type': 'Standalone Permits - Plumbing, Mechanical, Gas', 'cost_approximate': '1200.00', 'permit_fee': '33.00', 'outside_city_limits': '', 'site_address': '1230 N 5TH ST , SPEARFISH SD 57783', 'contractor': 'Donovan Plumbing LLC', 'hookup_fee': '', 'year': '2024', 'month': '11'}\n",
      "{'permit_number': 'PMG-24-19', 'applicant_name': 'Richard Anderson', 'construction_type': 'Standalone Permits - Plumbing, Mechanical, Gas', 'cost_approximate': '3000.00', 'permit_fee': '41.00', 'outside_city_limits': True, 'site_address': '3624 Northview Ct, Spearfish SD 57783', 'contractor': 'Owner', 'hookup_fee': '', 'year': '2024', 'month': '11'}\n",
      "{'permit_number': 'PMG-24-20', 'applicant_name': 'Chad king', 'construction_type': 'Standalone Permits - Plumbing, Mechanical, Gas', 'cost_approximate': '5500.00', 'permit_fee': '46.00', 'outside_city_limits': True, 'site_address': '360 Hillsview Drive, Spearfish SD 57783', 'contractor': 'Alman llc', 'hookup_fee': '', 'year': '2024', 'month': '11'}\n",
      "{'permit_number': 'PMG-24-21', 'applicant_name': 'ANDERSON, GERALD L', 'construction_type': 'Standalone Permits - Plumbing, Mechanical, Gas', 'cost_approximate': '3500.00', 'permit_fee': '51.00', 'outside_city_limits': '', 'site_address': '2133 TOP SHELF AVE , SPEARFISH SD 57783', 'contractor': 'Voss Custom Homes', 'hookup_fee': '', 'year': '2024', 'month': '11'}\n",
      "{'permit_number': 'PMG-24-22', 'applicant_name': 'GAGGERO FAMILY LLC', 'construction_type': 'Standalone Permits - Plumbing, Mechanical, Gas', 'cost_approximate': '750.00', 'permit_fee': '36.00', 'outside_city_limits': '', 'site_address': '720 JONAS BLVD', 'contractor': \"Wolff's Plumbing and Heating, Inc\", 'hookup_fee': '', 'year': '2024', 'month': '11'}\n",
      "{'permit_number': 'RAA-24-10', 'applicant_name': 'OBRYON,JAMES', 'construction_type': 'Residential Additions/Alterations', 'cost_approximate': '106775.74', 'permit_fee': '1210.64', 'outside_city_limits': '', 'site_address': '222 N 7TH ST , SPEARFISH SD 57783', 'contractor': 'Heidrich Construction Inc', 'hookup_fee': '', 'year': '2024', 'month': '11'}\n",
      "{'permit_number': 'RAA-24-13', 'applicant_name': 'HARDESTY, SCOTT', 'construction_type': 'Residential Additions/Alterations', 'cost_approximate': '10000.00', 'permit_fee': '244.00', 'outside_city_limits': '', 'site_address': '1705 RIVER VIEW CIR , SPEARFISH SD 57783', 'contractor': 'Owner', 'hookup_fee': '', 'year': '2024', 'month': '11'}\n",
      "{'permit_number': 'RAA-24-15', 'applicant_name': 'Black Hills Homes, LLC', 'construction_type': 'Residential Additions/Alterations', 'cost_approximate': '70000.00', 'permit_fee': '881.45', 'outside_city_limits': '', 'site_address': '7714 Brooks Loop, Spearfish SD 57783', 'contractor': 'Black Hills Homes, LLC', 'hookup_fee': '', 'year': '2024', 'month': '11'}\n",
      "{'permit_number': 'RAA-24-17', 'applicant_name': 'Scott Parsons', 'construction_type': 'Residential Additions/Alterations', 'cost_approximate': '115542.00', 'permit_fee': '1189.57', 'outside_city_limits': True, 'site_address': '19980 Merriam Loop, Spearfish SD 57783', 'contractor': 'F16 Services', 'hookup_fee': '', 'year': '2024', 'month': '11'}\n",
      "{'permit_number': 'RAA-24-18', 'applicant_name': 'Drew Hinker', 'construction_type': 'Residential Additions/Alterations', 'cost_approximate': '30000.00', 'permit_fee': '645.45', 'outside_city_limits': '', 'site_address': '1108 36TH ST , SPEARFISH SD 57783', 'contractor': 'Owner', 'hookup_fee': '', 'year': '2024', 'month': '11'}\n",
      "{'permit_number': 'RAA-24-19', 'applicant_name': 'GOMEZ, ADAM M & ASHLEY', 'construction_type': 'Residential Additions/Alterations', 'cost_approximate': '5000.00', 'permit_fee': '234.00', 'outside_city_limits': '', 'site_address': '820 E GRANT ST , SPEARFISH SD 57783', 'contractor': 'Owner', 'hookup_fee': '', 'year': '2024', 'month': '11'}\n",
      "{'permit_number': 'RAA-24-20', 'applicant_name': 'Bill Blauser', 'construction_type': 'Residential Additions/Alterations', 'cost_approximate': '4500.00', 'permit_fee': '135.00', 'outside_city_limits': '', 'site_address': '2579 TOP SHELF AVE', 'contractor': 'Delta construction', 'hookup_fee': '', 'year': '2024', 'month': '11'}\n",
      "{'permit_number': 'RAA-24-21', 'applicant_name': 'Anna Dykstra', 'construction_type': 'Residential Additions/Alterations', 'cost_approximate': '4322.72', 'permit_fee': '135.00', 'outside_city_limits': '', 'site_address': '706 UNIVERSITY ST', 'contractor': 'Barnett Custom Building', 'hookup_fee': '', 'year': '2024', 'month': '11'}\n",
      "{'permit_number': 'RAA-24-22', 'applicant_name': 'Morris Terveen', 'construction_type': 'Residential Additions/Alterations', 'cost_approximate': '126140.13', 'permit_fee': '1246.04', 'outside_city_limits': '', 'site_address': '915 N 5TH ST', 'contractor': 'robinson builders inc.', 'hookup_fee': '', 'year': '2024', 'month': '11'}\n",
      "{'permit_number': 'RAA-24-25', 'applicant_name': 'Holly Swaby', 'construction_type': 'Residential Additions/Alterations', 'cost_approximate': '7400.00', 'permit_fee': '294.85', 'outside_city_limits': '', 'site_address': '550 BUTTERCUP CT', 'contractor': 'MJ Plumbing Inc', 'hookup_fee': '', 'year': '2024', 'month': '11'}\n",
      "{'permit_number': 'RBP-24-91', 'applicant_name': 'Curt and Lori Fiedler', 'construction_type': 'Residential Additions/Alterations', 'cost_approximate': '137074.56', 'permit_fee': '1426.51', 'outside_city_limits': True, 'site_address': '2125 Vista Hills Place, Spearfish SD 57783', 'contractor': 'Owner', 'hookup_fee': '', 'year': '2024', 'month': '11'}\n",
      "{'permit_number': 'RDC-24-4', 'applicant_name': 'Todd Duex', 'construction_type': 'Residential Decks and Covered Patios', 'cost_approximate': '12840.00', 'permit_fee': '270.60', 'outside_city_limits': True, 'site_address': '10 Pearson Dr, Spearfish SD 57783', 'contractor': 'Install Pros LLC', 'hookup_fee': '', 'year': '2024', 'month': '11'}\n",
      "{'permit_number': 'RDC-24-5', 'applicant_name': 'KAMSTRA, LEIGH R', 'construction_type': 'Residential Decks and Covered Patios', 'cost_approximate': '40000.00', 'permit_fee': '661.35', 'outside_city_limits': '', 'site_address': '345 N 8TH ST , SPEARFISH SD 57783', 'contractor': 'Delta construction', 'hookup_fee': '', 'year': '2024', 'month': '11'}\n",
      "{'permit_number': 'RND-24-9', 'applicant_name': 'KEITH RISS', 'construction_type': 'New Residential - One to Two Family Dwelling Construction', 'cost_approximate': '150000.00', 'permit_fee': '2812.85', 'outside_city_limits': True, 'site_address': '535 MILLER LN', 'contractor': 'Owner', 'hookup_fee': '', 'year': '2024', 'month': '11'}\n",
      "{'permit_number': 'RND-24-11', 'applicant_name': 'Chad Truax', 'construction_type': 'New Residential - One to Two Family Dwelling Construction', 'cost_approximate': '698251.50', 'permit_fee': '4444.63', 'outside_city_limits': True, 'site_address': '3401 Hillsview Drive, Spearfish SD 57783', 'contractor': 'Rapid Exteriors', 'hookup_fee': '', 'year': '2024', 'month': '11'}\n",
      "{'permit_number': 'RND-24-12', 'applicant_name': 'High Plains Construction, Inc', 'construction_type': 'New Residential - One to Two Family Dwelling Construction', 'cost_approximate': '450953.74', 'permit_fee': '3855.52', 'outside_city_limits': '', 'site_address': '1639 Oak Crest Court, Spearfish SD 57786', 'contractor': 'Owner', 'hookup_fee': '3500.00', 'year': '2024', 'month': '11'}\n",
      "{'permit_number': 'RND-24-13', 'applicant_name': 'DMD Construction', 'construction_type': 'New Residential - One to Two Family Dwelling Construction', 'cost_approximate': '353556.28', 'permit_fee': '3260.83', 'outside_city_limits': '', 'site_address': '1420 Bozeman Court, Spearfish SD 57783', 'contractor': 'Owner', 'hookup_fee': '3500.00', 'year': '2024', 'month': '11'}\n",
      "{'permit_number': 'RND-24-16', 'applicant_name': 'DMD Construction', 'construction_type': 'New Residential - One to Two Family Dwelling Construction', 'cost_approximate': '340755.00', 'permit_fee': '3220.82', 'outside_city_limits': '', 'site_address': '1418 Bozeman Court, Spearfish SD 57783', 'contractor': 'Owner', 'hookup_fee': '3500.00', 'year': '2024', 'month': '11'}\n"
     ]
    }
   ],
   "source": [
    "filepath_in = f'pdfs/{date}.pdf'\n",
    "filepath_out = f'data/{date}.csv'\n",
    "\n",
    "year, month = date.split('-')\n",
    "\n",
    "if os.path.exists(filepath_out):\n",
    "    raise Exception(f'CSV file exists! {filepath_out}')\n",
    "\n",
    "# open the PDF with pdfplumber\n",
    "with pdfplumber.open(filepath_in) as pdf:\n",
    "\n",
    "    # empty list to hold the extracted data\n",
    "    table_data = []\n",
    "\n",
    "    # loop over the PDF pages\n",
    "    for page in pdf.pages:\n",
    "\n",
    "        # some reports have 2 tables on the last page,\n",
    "        # so you need to make sure you end up with the first one\n",
    "        table = page.extract_tables()[0]\n",
    "\n",
    "        # add the data to the tracking list\n",
    "        if table:\n",
    "            table_data.extend(table)\n",
    "\n",
    "# an empty list to hold the parsed data\n",
    "data_parsed = []\n",
    "\n",
    "# records are split over two lines, so using sentinel vars\n",
    "# to guardrail populating a dict as you iterate\n",
    "current_record = {}\n",
    "\n",
    "# loop over the rows of raw data\n",
    "for line in table_data:\n",
    "\n",
    "    # using some string methods later, so want empty strings\n",
    "    # instead of None vals for blanks\n",
    "    line = [x or '' for x in line]\n",
    "\n",
    "    # skip empty rows\n",
    "    if not any(line):\n",
    "        continue\n",
    "\n",
    "    # see what the first value in the row is\n",
    "    first_value = line[0].lower()\n",
    "\n",
    "    # break if you get to a row with any\n",
    "    # of these terms are present in the first value\n",
    "    break_terms = [\n",
    "        'total',\n",
    "        'year-to-date',\n",
    "        'year to date',\n",
    "        'project',\n",
    "        '\\n',\n",
    "        'permits'\n",
    "    ]\n",
    "\n",
    "    if any([x in first_value.lower() for x in break_terms]):\n",
    "        break\n",
    "\n",
    "    # parse the line that begins with \"address\" --\n",
    "    # second line in the record\n",
    "    if first_value == 'address':\n",
    "        _, address,  _, contractor, _, hookup_fee = line\n",
    "\n",
    "        current_record['site_address'] = address\n",
    "\n",
    "        current_record['contractor'] = contractor\n",
    "        current_record['hookup_fee'] = hookup_fee\n",
    "        current_record['year'] = year\n",
    "        current_record['month'] = month\n",
    "\n",
    "        # clean up some garbage chars in the currency columns\n",
    "        for x in [' ', '$', ',', 'nofee', 'n/a', '-', 'waived']:\n",
    "            current_record['cost_approximate'] = current_record['cost_approximate'].lower().replace(x, '')\n",
    "            current_record['permit_fee'] = current_record['permit_fee'].lower().replace(x, '')\n",
    "            current_record['hookup_fee'] = current_record['hookup_fee'].lower().replace(x, '')\n",
    "\n",
    "        # we're done! print to let us know what's up\n",
    "        print(current_record)\n",
    "\n",
    "        # add the now-full dict to the main list\n",
    "        data_parsed.append(current_record)\n",
    "\n",
    "        # ... and reset the tracking dict\n",
    "        current_record = {}\n",
    "\n",
    "    # parse the first line of each record\n",
    "    else:\n",
    "        permit_id, applicant, const_type, _, cost, permit_fee = line\n",
    "\n",
    "        # break this out into its own var\n",
    "        outside_city_limits = ''\n",
    "    \n",
    "        if '*' in permit_id:\n",
    "            outside_city_limits = True\n",
    "    \n",
    "        permit_id = permit_id.replace('*', '')\n",
    "\n",
    "        current_record['permit_number'] = permit_id\n",
    "        current_record['applicant_name'] = applicant\n",
    "        current_record['construction_type'] = const_type\n",
    "        current_record['cost_approximate'] = cost\n",
    "        current_record['permit_fee'] = permit_fee\n",
    "        current_record['outside_city_limits'] = outside_city_limits"
   ]
  },
  {
   "cell_type": "code",
   "execution_count": 5,
   "id": "e38f38d6-c47f-4cd2-9d03-e7f1e0049447",
   "metadata": {},
   "outputs": [
    {
     "name": "stdout",
     "output_type": "stream",
     "text": [
      "Wrote 29 records to file: data/2024-11.csv\n"
     ]
    }
   ],
   "source": [
    "# write the records to file -- be sure to check the\n",
    "# record count against the live PDF and check for accuracy\n",
    "with open(filepath_out, 'w') as outfile:\n",
    "    writer = csv.DictWriter(outfile, fieldnames=csv_headers)\n",
    "    writer.writeheader()\n",
    "    writer.writerows(data_parsed)\n",
    "\n",
    "print(f'Wrote {len(data_parsed)} records to file: {filepath_out}')"
   ]
  },
  {
   "cell_type": "code",
   "execution_count": 6,
   "id": "2630e43d-c810-4bda-8c51-40ef383b69e8",
   "metadata": {},
   "outputs": [
    {
     "name": "stdout",
     "output_type": "stream",
     "text": [
      "Wrote 5,163 permit records to file: spearfish-building-permits.csv\n"
     ]
    }
   ],
   "source": [
    "%run combine"
   ]
  },
  {
   "cell_type": "code",
   "execution_count": null,
   "id": "985e7a92-c945-43da-a58d-135d9d51bd5e",
   "metadata": {},
   "outputs": [],
   "source": []
  }
 ],
 "metadata": {
  "kernelspec": {
   "display_name": "Python 3 (ipykernel)",
   "language": "python",
   "name": "python3"
  },
  "language_info": {
   "codemirror_mode": {
    "name": "ipython",
    "version": 3
   },
   "file_extension": ".py",
   "mimetype": "text/x-python",
   "name": "python",
   "nbconvert_exporter": "python",
   "pygments_lexer": "ipython3",
   "version": "3.12.7"
  }
 },
 "nbformat": 4,
 "nbformat_minor": 5
}
