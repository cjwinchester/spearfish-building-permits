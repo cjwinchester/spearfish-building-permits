{
 "cells": [
  {
   "cell_type": "markdown",
   "id": "75757f4d-6514-461e-a80e-3d9236152603",
   "metadata": {},
   "source": [
    "# Parse PDFs\n",
    "\n",
    "This notebook has code to parse a PDF file in the `pdfs` folder into a CSV file in the `data` folder. (I do these one month at a time, spot-checking the data as I go.)"
   ]
  },
  {
   "cell_type": "code",
   "execution_count": 1,
   "id": "19a9fe41-1e6a-47cf-8ffa-ee8adb6b9583",
   "metadata": {},
   "outputs": [],
   "source": [
    "import glob\n",
    "import os\n",
    "import csv\n",
    "\n",
    "import pdfplumber\n",
    "import pandas as pd\n",
    "\n",
    "from const import csv_headers"
   ]
  },
  {
   "cell_type": "code",
   "execution_count": 2,
   "id": "29a4586a-e353-46bc-bb39-9838d5fe556c",
   "metadata": {},
   "outputs": [
    {
     "name": "stdout",
     "output_type": "stream",
     "text": [
      "Downloaded pdfs/2024-09.pdf\n",
      "Downloaded pdfs/2024-08.pdf\n"
     ]
    }
   ],
   "source": [
    "%run download"
   ]
  },
  {
   "cell_type": "code",
   "execution_count": 6,
   "id": "689f1706-6123-4f1f-b95d-c993aa116a39",
   "metadata": {},
   "outputs": [],
   "source": [
    "date = '2024-09'"
   ]
  },
  {
   "cell_type": "code",
   "execution_count": 7,
   "id": "26730621-b619-4a94-8dcf-74ff968c14d0",
   "metadata": {
    "scrolled": true
   },
   "outputs": [
    {
     "name": "stdout",
     "output_type": "stream",
     "text": [
      "{'permit_number': '7216', 'applicant_name': 'Dennis Hansen', 'construction_type': 'Residential Additions/Alterations', 'cost_approximate': '6000.00', 'permit_fee': '151.95', 'outside_city_limits': True, 'site_address': '2020 Riggs Road, Spearfish SD 57783', 'contractor': 'Owner', 'hookup_fee': '', 'year': '2024', 'month': '09'}\n",
      "{'permit_number': 'CBP‐24‐23', 'applicant_name': 'HERITAGE BUSINESS PARK LLC', 'construction_type': 'Commercial New Build or Addition', 'cost_approximate': '500000.00', 'permit_fee': '224.00', 'outside_city_limits': '', 'site_address': '540 HERITAGE DR, SPEARFISH, SD 57783', 'contractor': 'Rebel Contracting LLC', 'hookup_fee': '‐', 'year': '2024', 'month': '09'}\n",
      "{'permit_number': 'CBP‐24‐24', 'applicant_name': 'Jordan Hoffart', 'construction_type': 'Commercial New Build or Addition', 'cost_approximate': '14895.00', 'permit_fee': '304.51', 'outside_city_limits': '', 'site_address': '200 Dodds Avenue, Spearfish, SD 57783', 'contractor': \"Freeman's Electric\", 'hookup_fee': '‐', 'year': '2024', 'month': '09'}\n",
      "{'permit_number': 'CBP‐24‐36', 'applicant_name': 'Corey Mosset', 'construction_type': 'Commercial New Build or Addition', 'cost_approximate': '500000.00', 'permit_fee': '2578.83', 'outside_city_limits': '', 'site_address': '3165 Venture Court, Spearfish SD 57783', 'contractor': 'Northern hills door', 'hookup_fee': '3500.00', 'year': '2024', 'month': '09'}\n",
      "{'permit_number': 'CBP‐24‐38', 'applicant_name': 'City Brew', 'construction_type': 'Standalone Permits ‐ Plumbing, Mechanical, Gas', 'cost_approximate': '250000.00', 'permit_fee': '1891.75', 'outside_city_limits': '', 'site_address': '130 Ryan Road, Spearfish SD 57783', 'contractor': 'Lees Construction & Development', 'hookup_fee': '‐', 'year': '2024', 'month': '09'}\n",
      "{'permit_number': 'PMG‐24‐7', 'applicant_name': 'Erin Fiedler', 'construction_type': 'Standalone Permits ‐ Plumbing, Mechanical, Gas', 'cost_approximate': '3000.00', 'permit_fee': '99.00', 'outside_city_limits': '', 'site_address': '311 West Jackson Boulevard, Spearfish SD 57783', 'contractor': 'Owner', 'hookup_fee': '‐', 'year': '2024', 'month': '09'}\n",
      "{'permit_number': 'PMG‐24‐8', 'applicant_name': 'Iron Ridge Estates, LLC', 'construction_type': 'Standalone Permits ‐ Plumbing, Mechanical, Gas', 'cost_approximate': '150.00', 'permit_fee': '36.00', 'outside_city_limits': '', 'site_address': '2509 WINDMILL DR , Unit 507, SPEARFISH SD 57783', 'contractor': 'Owner', 'hookup_fee': '‐', 'year': '2024', 'month': '09'}\n",
      "{'permit_number': 'RAA‐24‐2', 'applicant_name': 'Dan Gaytan', 'construction_type': 'Residential Additions/Alterations', 'cost_approximate': '268379.74', 'permit_fee': '2647.62', 'outside_city_limits': True, 'site_address': '2320 Lookout Mountain Road, Spearfish SD 57783', 'contractor': 'Home Driven Solutions LLC', 'hookup_fee': '‐', 'year': '2024', 'month': '09'}\n",
      "{'permit_number': 'RAA‐24‐6', 'applicant_name': 'Jim Schuricht', 'construction_type': 'Residential Additions/Alterations', 'cost_approximate': '15000.00', 'permit_fee': '393.50', 'outside_city_limits': '', 'site_address': '208 UNION ST, SPEARFISH, SD 57783', 'contractor': 'Ralph Siemonsma', 'hookup_fee': '‐', 'year': '2024', 'month': '09'}\n",
      "{'permit_number': 'RBP‐24‐83', 'applicant_name': 'Michael Warwick', 'construction_type': 'New Residential ‐ One to Two Family Dwelling Construction', 'cost_approximate': '501368.65', 'permit_fee': '4147.49', 'outside_city_limits': '', 'site_address': '7907 Coley Road, Spearfish SD 57783', 'contractor': 'Wicks Concrete LLC', 'hookup_fee': '3500.00', 'year': '2024', 'month': '09'}\n",
      "{'permit_number': 'RBP‐24‐105', 'applicant_name': 'COLE, NORMAN & SALLY FAMILY TRUST', 'construction_type': 'Residential Decks and Covered Patios', 'cost_approximate': '5135.20', 'permit_fee': '151.95', 'outside_city_limits': '', 'site_address': '607 CUSTER ST , SPEARFISH SD 57783', 'contractor': 'Mollman Builders Inc.', 'hookup_fee': '‐', 'year': '2024', 'month': '09'}\n",
      "{'permit_number': 'RBP‐24‐109', 'applicant_name': 'Scott Carlson', 'construction_type': 'New Residential ‐ One to Two Family Dwelling Construction', 'cost_approximate': '1027247.10', 'permit_fee': '5941.05', 'outside_city_limits': True, 'site_address': '454 Spirit Mountain Place, Spearfish, SD 57783', 'contractor': 'Black Hills Specialty Builders', 'hookup_fee': '‐', 'year': '2024', 'month': '09'}\n",
      "{'permit_number': 'RBP‐24‐129', 'applicant_name': 'OLSON, JULIE ANN', 'construction_type': 'Residential Remodel / Alteration', 'cost_approximate': '68000.00', 'permit_fee': '808.65', 'outside_city_limits': '', 'site_address': '2410 WOODLAND LOOP , SPEARFISH SD 57783', 'contractor': 'Excel Construction LLC', 'hookup_fee': '‐', 'year': '2024', 'month': '09'}\n",
      "{'permit_number': 'RBP‐24‐132', 'applicant_name': 'Jill Kolb', 'construction_type': 'New Residential ‐ One to Two Family Dwelling Construction', 'cost_approximate': '460425.23', 'permit_fee': '3933.22', 'outside_city_limits': '', 'site_address': '1993 Blue Sage Road, Spearfish SD 57783', 'contractor': 'Owner', 'hookup_fee': '3500.00', 'year': '2024', 'month': '09'}\n",
      "{'permit_number': 'RBP‐24‐133', 'applicant_name': 'Pets w/ People Rentals LLC', 'construction_type': 'Residential Remodel / Alteration', 'cost_approximate': '2500.00', 'permit_fee': '101.10', 'outside_city_limits': '', 'site_address': '528 11th Circle, Spearfish SD 57783', 'contractor': 'Designs by Darling', 'hookup_fee': '‐', 'year': '2024', 'month': '09'}\n",
      "{'permit_number': 'RBP‐24‐134', 'applicant_name': 'Linda Henjum', 'construction_type': 'New Residential ‐ One to Two Family Dwelling Construction', 'cost_approximate': '615383.62', 'permit_fee': '4734.17', 'outside_city_limits': '', 'site_address': '2301 Bridgestone Circle, Spearfish, SD 57783', 'contractor': 'David Henjum Construction LLC', 'hookup_fee': '3500.00', 'year': '2024', 'month': '09'}\n",
      "{'permit_number': 'RBP‐24‐135', 'applicant_name': 'Devin McDermott', 'construction_type': 'Mobile Home Placement', 'cost_approximate': '3500.00', 'permit_fee': '50.00', 'outside_city_limits': '', 'site_address': '1830 McDermott Road, Spearfish SD 57783', 'contractor': 'Owner', 'hookup_fee': '‐', 'year': '2024', 'month': '09'}\n",
      "{'permit_number': 'RBP‐24‐136', 'applicant_name': 'DAVE PETERSEN', 'construction_type': 'New Residential ‐ One to Two Family Dwelling Construction', 'cost_approximate': '376794.03', 'permit_fee': '3326.54', 'outside_city_limits': '', 'site_address': '1412 Bozeman Court, Spearfish SD 57783', 'contractor': 'Dave Petersen Construction', 'hookup_fee': '3500.00', 'year': '2024', 'month': '09'}\n",
      "{'permit_number': 'RBP‐24‐137', 'applicant_name': 'Paula Mowry', 'construction_type': 'New Residential ‐ One to Two Family Dwelling Construction', 'cost_approximate': '423405.30', 'permit_fee': '3669.73', 'outside_city_limits': '', 'site_address': '1501 Oak Crest Court, Spearfish SD 57783', 'contractor': 'Canyon Concrete Corp', 'hookup_fee': '3500.00', 'year': '2024', 'month': '09'}\n",
      "{'permit_number': 'RDC‐24‐2', 'applicant_name': 'First Baptist Church of the Northern Hills', 'construction_type': 'Residential Decks and Covered Patios', 'cost_approximate': '12000.00', 'permit_fee': '372.30', 'outside_city_limits': True, 'site_address': '1220 North Rainbow Road, Spearfish SD 57783', 'contractor': 'Owner', 'hookup_fee': '‐', 'year': '2024', 'month': '09'}\n",
      "{'permit_number': 'RND‐24‐2', 'applicant_name': 'High Plains Construction, Inc', 'construction_type': 'New Residential ‐ One to Two Family Dwelling Construction', 'cost_approximate': '500000.00', 'permit_fee': '3114.00', 'outside_city_limits': '', 'site_address': '1777 Oak Crest Court, Spearfish SD 57783', 'contractor': 'Owner', 'hookup_fee': '3000.00', 'year': '2024', 'month': '09'}\n",
      "{'permit_number': 'RND‐24‐3', 'applicant_name': 'High Plains Construction, Inc', 'construction_type': 'New Residential ‐ One to Two Family Dwelling Construction', 'cost_approximate': '500000.00', 'permit_fee': '3114.00', 'outside_city_limits': '', 'site_address': '1753 Oak Crest Court, Spearfish SD 57783', 'contractor': 'Owner', 'hookup_fee': '3000.00', 'year': '2024', 'month': '09'}\n"
     ]
    }
   ],
   "source": [
    "filepath_in = f'pdfs/{date}.pdf'\n",
    "filepath_out = f'data/{date}.csv'\n",
    "\n",
    "year, month = date.split('-')\n",
    "\n",
    "if os.path.exists(filepath_out):\n",
    "    raise Exception(f'CSV file exists! {filepath_out}')\n",
    "\n",
    "# open the PDF with pdfplumber\n",
    "with pdfplumber.open(filepath_in) as pdf:\n",
    "\n",
    "    # empty list to hold the extracted data\n",
    "    table_data = []\n",
    "\n",
    "    # loop over the PDF pages\n",
    "    for page in pdf.pages:\n",
    "\n",
    "        # some reports have 2 tables on the last page,\n",
    "        # so you need to make sure you end up with the first one\n",
    "        table = page.extract_tables()[0]\n",
    "\n",
    "        # add the data to the tracking list\n",
    "        if table:\n",
    "            table_data.extend(table)\n",
    "\n",
    "# an empty list to hold the parsed data\n",
    "data_parsed = []\n",
    "\n",
    "# records are split over two lines, so using sentinel vars\n",
    "# to guardrail populating a dict as you iterate\n",
    "current_record = {}\n",
    "\n",
    "# loop over the rows of raw data\n",
    "for line in table_data:\n",
    "\n",
    "    # using some string methods later, so want empty strings\n",
    "    # instead of None vals for blanks\n",
    "    line = [x or '' for x in line]\n",
    "\n",
    "    # skip empty rows\n",
    "    if not any(line):\n",
    "        continue\n",
    "\n",
    "    # see what the first value in the row is\n",
    "    first_value = line[0].lower()\n",
    "\n",
    "    # break if you get to a row with any\n",
    "    # of these terms are present in the first value\n",
    "    break_terms = [\n",
    "        'total',\n",
    "        'year-to-date',\n",
    "        'year to date',\n",
    "        'project',\n",
    "        '\\n',\n",
    "        'permits'\n",
    "    ]\n",
    "\n",
    "    if any([x in first_value.lower() for x in break_terms]):\n",
    "        break\n",
    "\n",
    "    # parse the line that begins with \"address\" --\n",
    "    # second line in the record\n",
    "    if first_value == 'address':\n",
    "        _, address,  _, contractor, _, hookup_fee = line\n",
    "\n",
    "        current_record['site_address'] = address\n",
    "\n",
    "        current_record['contractor'] = contractor\n",
    "        current_record['hookup_fee'] = hookup_fee\n",
    "        current_record['year'] = year\n",
    "        current_record['month'] = month\n",
    "\n",
    "        # clean up some garbage chars in the currency columns\n",
    "        for x in [' ', '$', ',', 'nofee', 'n/a', '-', 'waived']:\n",
    "            current_record['cost_approximate'] = current_record['cost_approximate'].lower().replace(x, '')\n",
    "            current_record['permit_fee'] = current_record['permit_fee'].lower().replace(x, '')\n",
    "            current_record['hookup_fee'] = current_record['hookup_fee'].lower().replace(x, '')\n",
    "\n",
    "        # we're done! print to let us know what's up\n",
    "        print(current_record)\n",
    "\n",
    "        # add the now-full dict to the main list\n",
    "        data_parsed.append(current_record)\n",
    "\n",
    "        # ... and reset the tracking dict\n",
    "        current_record = {}\n",
    "\n",
    "    # parse the first line of each record\n",
    "    else:\n",
    "        permit_id, applicant, const_type, _, cost, permit_fee = line\n",
    "\n",
    "        # break this out into its own var\n",
    "        outside_city_limits = ''\n",
    "    \n",
    "        if '*' in permit_id:\n",
    "            outside_city_limits = True\n",
    "    \n",
    "        permit_id = permit_id.replace('*', '')\n",
    "\n",
    "        current_record['permit_number'] = permit_id\n",
    "        current_record['applicant_name'] = applicant\n",
    "        current_record['construction_type'] = const_type\n",
    "        current_record['cost_approximate'] = cost\n",
    "        current_record['permit_fee'] = permit_fee\n",
    "        current_record['outside_city_limits'] = outside_city_limits"
   ]
  },
  {
   "cell_type": "code",
   "execution_count": 8,
   "id": "e38f38d6-c47f-4cd2-9d03-e7f1e0049447",
   "metadata": {},
   "outputs": [
    {
     "name": "stdout",
     "output_type": "stream",
     "text": [
      "Wrote 22 records to file: data/2024-09.csv\n"
     ]
    }
   ],
   "source": [
    "# write the records to file -- be sure to check the\n",
    "# record count against the live PDF and check for accuracy\n",
    "with open(filepath_out, 'w') as outfile:\n",
    "    writer = csv.DictWriter(outfile, fieldnames=csv_headers)\n",
    "    writer.writeheader()\n",
    "    writer.writerows(data_parsed)\n",
    "\n",
    "print(f'Wrote {len(data_parsed)} records to file: {filepath_out}')"
   ]
  },
  {
   "cell_type": "code",
   "execution_count": 1,
   "id": "2630e43d-c810-4bda-8c51-40ef383b69e8",
   "metadata": {},
   "outputs": [
    {
     "ename": "UnParseableAddressError",
     "evalue": "UNPARSEABLE ADDRESS: Unable to break this address into its component parts, OrderedDict({'address_line_1': '2020 RIGGS ROAD, SPEARFISH SD 57783 SPEARFISH, SD', 'address_line_2': None, 'city': None, 'state': None, 'postal_code': None})",
     "output_type": "error",
     "traceback": [
      "\u001b[0;31m---------------------------------------------------------------------------\u001b[0m",
      "\u001b[0;31mUnParseableAddressError\u001b[0m                   Traceback (most recent call last)",
      "File \u001b[0;32m~/spearfish-building-permits/combine.py:84\u001b[0m\n\u001b[1;32m     81\u001b[0m         \u001b[38;5;28;01mif\u001b[39;00m \u001b[38;5;129;01mnot\u001b[39;00m address_to_parse\u001b[38;5;241m.\u001b[39mupper()\u001b[38;5;241m.\u001b[39mendswith(\u001b[38;5;124m'\u001b[39m\u001b[38;5;124mSPEARFISH, SD\u001b[39m\u001b[38;5;124m'\u001b[39m):\n\u001b[1;32m     82\u001b[0m             address_to_parse \u001b[38;5;241m=\u001b[39m \u001b[38;5;124mf\u001b[39m\u001b[38;5;124m'\u001b[39m\u001b[38;5;132;01m{\u001b[39;00maddress_to_parse\u001b[38;5;132;01m}\u001b[39;00m\u001b[38;5;124m Spearfish, SD\u001b[39m\u001b[38;5;124m'\u001b[39m\n\u001b[0;32m---> 84\u001b[0m         \u001b[43mnormalize_address_record\u001b[49m\u001b[43m(\u001b[49m\u001b[43maddress_to_parse\u001b[49m\u001b[43m)\u001b[49m\n\u001b[1;32m     86\u001b[0m         combined_data\u001b[38;5;241m.\u001b[39mappend(row)\n\u001b[1;32m     88\u001b[0m \u001b[38;5;66;03m# sort desc by year, month, project cost\u001b[39;00m\n",
      "File \u001b[0;32m~/spearfish-building-permits/env/lib/python3.12/site-packages/scourgify/normalize.py:154\u001b[0m, in \u001b[0;36mnormalize_address_record\u001b[0;34m(address, addr_map, addtl_funcs, strict, long_hand)\u001b[0m\n\u001b[1;32m    126\u001b[0m \u001b[38;5;250m\u001b[39m\u001b[38;5;124;03m\"\"\"Normalize an address according to USPS pub. 28 standards.\u001b[39;00m\n\u001b[1;32m    127\u001b[0m \n\u001b[1;32m    128\u001b[0m \u001b[38;5;124;03mTakes an address string, or a dict-like with standard address fields\u001b[39;00m\n\u001b[0;32m   (...)\u001b[0m\n\u001b[1;32m    151\u001b[0m \u001b[38;5;124;03m:rtype: Mapping[str, str]\u001b[39;00m\n\u001b[1;32m    152\u001b[0m \u001b[38;5;124;03m\"\"\"\u001b[39;00m\n\u001b[1;32m    153\u001b[0m \u001b[38;5;28;01mif\u001b[39;00m \u001b[38;5;28misinstance\u001b[39m(address, \u001b[38;5;28mstr\u001b[39m):\n\u001b[0;32m--> 154\u001b[0m     \u001b[38;5;28;01mreturn\u001b[39;00m \u001b[43mnormalize_addr_str\u001b[49m\u001b[43m(\u001b[49m\n\u001b[1;32m    155\u001b[0m \u001b[43m        \u001b[49m\u001b[43maddress\u001b[49m\u001b[43m,\u001b[49m\u001b[43m \u001b[49m\u001b[43maddtl_funcs\u001b[49m\u001b[38;5;241;43m=\u001b[39;49m\u001b[43maddtl_funcs\u001b[49m\u001b[43m,\u001b[49m\u001b[43m \u001b[49m\u001b[43mlong_hand\u001b[49m\u001b[38;5;241;43m=\u001b[39;49m\u001b[43mlong_hand\u001b[49m\n\u001b[1;32m    156\u001b[0m \u001b[43m    \u001b[49m\u001b[43m)\u001b[49m\n\u001b[1;32m    157\u001b[0m \u001b[38;5;28;01melse\u001b[39;00m:\n\u001b[1;32m    158\u001b[0m     \u001b[38;5;28;01mreturn\u001b[39;00m normalize_addr_dict(\n\u001b[1;32m    159\u001b[0m         address, addr_map\u001b[38;5;241m=\u001b[39maddr_map, addtl_funcs\u001b[38;5;241m=\u001b[39maddtl_funcs,\n\u001b[1;32m    160\u001b[0m         strict\u001b[38;5;241m=\u001b[39mstrict, long_hand\u001b[38;5;241m=\u001b[39mlong_hand\n\u001b[1;32m    161\u001b[0m     )\n",
      "File \u001b[0;32m~/spearfish-building-permits/env/lib/python3.12/site-packages/scourgify/normalize.py:260\u001b[0m, in \u001b[0;36mnormalize_addr_str\u001b[0;34m(addr_str, line2, city, state, zipcode, addtl_funcs, long_hand)\u001b[0m\n\u001b[1;32m    255\u001b[0m addr_rec \u001b[38;5;241m=\u001b[39m OrderedDict(\n\u001b[1;32m    256\u001b[0m     address_line_1\u001b[38;5;241m=\u001b[39mline1, address_line_2\u001b[38;5;241m=\u001b[39mline2, city\u001b[38;5;241m=\u001b[39mcity,\n\u001b[1;32m    257\u001b[0m     state\u001b[38;5;241m=\u001b[39mstate, postal_code\u001b[38;5;241m=\u001b[39mzipcode\n\u001b[1;32m    258\u001b[0m )\n\u001b[1;32m    259\u001b[0m \u001b[38;5;28;01mif\u001b[39;00m error:\n\u001b[0;32m--> 260\u001b[0m     \u001b[38;5;28;01mraise\u001b[39;00m UnParseableAddressError(\u001b[38;5;28;01mNone\u001b[39;00m, \u001b[38;5;28;01mNone\u001b[39;00m, addr_rec)\n\u001b[1;32m    261\u001b[0m \u001b[38;5;28;01melse\u001b[39;00m:\n\u001b[1;32m    262\u001b[0m     \u001b[38;5;28;01mreturn\u001b[39;00m addr_rec\n",
      "\u001b[0;31mUnParseableAddressError\u001b[0m: UNPARSEABLE ADDRESS: Unable to break this address into its component parts, OrderedDict({'address_line_1': '2020 RIGGS ROAD, SPEARFISH SD 57783 SPEARFISH, SD', 'address_line_2': None, 'city': None, 'state': None, 'postal_code': None})"
     ]
    }
   ],
   "source": [
    "%run combine"
   ]
  },
  {
   "cell_type": "code",
   "execution_count": null,
   "id": "d8ed7486-e4df-480b-ac2a-ec0f612818bf",
   "metadata": {},
   "outputs": [],
   "source": []
  }
 ],
 "metadata": {
  "kernelspec": {
   "display_name": "Python 3 (ipykernel)",
   "language": "python",
   "name": "python3"
  },
  "language_info": {
   "codemirror_mode": {
    "name": "ipython",
    "version": 3
   },
   "file_extension": ".py",
   "mimetype": "text/x-python",
   "name": "python",
   "nbconvert_exporter": "python",
   "pygments_lexer": "ipython3",
   "version": "3.12.6"
  }
 },
 "nbformat": 4,
 "nbformat_minor": 5
}
