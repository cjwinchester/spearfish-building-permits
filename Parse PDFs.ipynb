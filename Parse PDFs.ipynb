{
 "cells": [
  {
   "cell_type": "markdown",
   "id": "75757f4d-6514-461e-a80e-3d9236152603",
   "metadata": {},
   "source": [
    "# Parse PDFs\n",
    "\n",
    "This notebook has code to parse a PDF file in the `pdfs` folder into a CSV file in the `data` folder. (I do these one month at a time, spot-checking the data as I go.)"
   ]
  },
  {
   "cell_type": "code",
   "execution_count": 28,
   "id": "19a9fe41-1e6a-47cf-8ffa-ee8adb6b9583",
   "metadata": {},
   "outputs": [],
   "source": [
    "import glob\n",
    "import os\n",
    "import csv\n",
    "\n",
    "import pdfplumber\n",
    "import pandas as pd\n",
    "\n",
    "from const import csv_headers, address_fixes"
   ]
  },
  {
   "cell_type": "code",
   "execution_count": 2,
   "id": "29a4586a-e353-46bc-bb39-9838d5fe556c",
   "metadata": {},
   "outputs": [],
   "source": [
    "%run download"
   ]
  },
  {
   "cell_type": "code",
   "execution_count": 29,
   "id": "689f1706-6123-4f1f-b95d-c993aa116a39",
   "metadata": {},
   "outputs": [],
   "source": [
    "date = '2024-12'"
   ]
  },
  {
   "cell_type": "code",
   "execution_count": 30,
   "id": "26730621-b619-4a94-8dcf-74ff968c14d0",
   "metadata": {
    "scrolled": true
   },
   "outputs": [
    {
     "name": "stdout",
     "output_type": "stream",
     "text": [
      "{'permit_number': 'PMG-24-23', 'applicant_name': 'Rusty karlson', 'construction_type': 'Standalone Permits - Plumbing, Mechanical, Gas', 'cost_approximate': '1.00', 'permit_fee': '56.00', 'outside_city_limits': True, 'site_address': '311 Evans Lane, Unit Lot N, Spearfish SD 57783', 'contractor': 'Owner', 'hookup_fee': '', 'year': '2024', 'month': '12'}\n",
      "{'permit_number': 'PMG-24-26', 'applicant_name': 'Bryan Robb', 'construction_type': 'Standalone Permits - Plumbing, Mechanical, Gas', 'cost_approximate': '2000.00', 'permit_fee': '51.00', 'outside_city_limits': '', 'site_address': '450 Gooseberry Rd, Spearfish, SD 57783', 'contractor': 'Owner', 'hookup_fee': '', 'year': '2024', 'month': '12'}\n",
      "{'permit_number': 'PMG-24-24', 'applicant_name': 'Desmond Watson', 'construction_type': 'Standalone Permits - Plumbing, Mechanical, Gas', 'cost_approximate': '340.00', 'permit_fee': '36.00', 'outside_city_limits': '', 'site_address': '1236 SPEARFISH MOUNTAIN LN, SPEARFISH SD', 'contractor': 'Owner', 'hookup_fee': '', 'year': '2024', 'month': '12'}\n",
      "{'permit_number': 'RAA-24-28', 'applicant_name': 'HILLSVIEW CHURCH OF NAZARENE', 'construction_type': 'Residential Additions/Alterations', 'cost_approximate': '59838.58', 'permit_fee': '754.25', 'outside_city_limits': '', 'site_address': '1200 N 10TH ST, SPEARFISH SD 57783', 'contractor': 'Blackburn Foundation Repair LLC', 'hookup_fee': '', 'year': '2024', 'month': '12'}\n",
      "{'permit_number': 'RAA-24-29', 'applicant_name': 'Alicia Beedle', 'construction_type': 'Residential Additions/Alterations', 'cost_approximate': '30000.00', 'permit_fee': '885.45', 'outside_city_limits': '', 'site_address': '1230 N 5TH ST, SPEARFISH SD 57783', 'contractor': 'Owner', 'hookup_fee': '', 'year': '2024', 'month': '12'}\n",
      "{'permit_number': 'RAA-24-32', 'applicant_name': 'Laska, Matthew J. & Kelsey R.', 'construction_type': 'Residential Additions/Alterations', 'cost_approximate': '25000.00', 'permit_fee': '530.00', 'outside_city_limits': '', 'site_address': '3766 W BEARTOOTH LOOP, SPEARFISH SD 5778', 'contractor': 'Fireplaces, Stoves and More', 'hookup_fee': '', 'year': '2024', 'month': '12'}\n",
      "{'permit_number': 'CAA-24-18', 'applicant_name': 'Fifth Generation Investments, LLC', 'construction_type': 'Commercial Alterations or Tenant Improvements', 'cost_approximate': '18580.00', 'permit_fee': '372.30', 'outside_city_limits': '', 'site_address': '2437 E. Colorado Blvd.', 'contractor': 'Advanced Builders', 'hookup_fee': '', 'year': '2024', 'month': '12'}\n",
      "{'permit_number': 'RAA-24-31', 'applicant_name': 'Tate Johnson', 'construction_type': 'Residential Additions/Alterations', 'cost_approximate': '70871.92', 'permit_fee': '918.05', 'outside_city_limits': '', 'site_address': '2011 Red Oak Cir, Spearfish, SD 57783', 'contractor': 'Ainsworth-Benning Construction', 'hookup_fee': '', 'year': '2024', 'month': '12'}\n",
      "{'permit_number': 'RND-24-10', 'applicant_name': 'DBK INC', 'construction_type': 'New Residential - One to Two Family Dwelling Construction', 'cost_approximate': '900000.00', 'permit_fee': '4485.51', 'outside_city_limits': '', 'site_address': '7730 Brooks Loop, Spearfish, SD 57783', 'contractor': 'DBK Inc.', 'hookup_fee': '3500.00', 'year': '2024', 'month': '12'}\n",
      "{'permit_number': 'RND-24-14', 'applicant_name': 'Jason and Stacy Jones', 'construction_type': 'New Residential - One to Two Family Dwelling Construction', 'cost_approximate': '1300000.00', 'permit_fee': '5527.23', 'outside_city_limits': True, 'site_address': '3115 American Eagle Rd, Spearfish, SD 5778', 'contractor': 'Big Timber Properties', 'hookup_fee': '', 'year': '2024', 'month': '12'}\n",
      "{'permit_number': 'RND-24-15', 'applicant_name': 'RL Development LLC', 'construction_type': 'New Residential - One to Two Family Dwelling Construction', 'cost_approximate': '1300000.00', 'permit_fee': '6730.43', 'outside_city_limits': '', 'site_address': '7923 & 7925 Duke Parkway, Spearfish, SD 57', 'contractor': 'RL Development LLC', 'hookup_fee': '7000.00', 'year': '2024', 'month': '12'}\n",
      "{'permit_number': 'RND-24-18', 'applicant_name': 'DMD Construction, Inc.', 'construction_type': 'New Residential - One to Two Family Dwelling Construction', 'cost_approximate': '500000.00', 'permit_fee': '4524.75', 'outside_city_limits': '', 'site_address': '3912 Powder River Avenue, Spearfish, SD 57', 'contractor': 'DMD Constuction, Inc.', 'hookup_fee': '3500.00', 'year': '2024', 'month': '12'}\n",
      "{'permit_number': 'RND-24-19', 'applicant_name': 'Edward and Breonna Reid', 'construction_type': 'New Residential - One to Two Family Dwelling Construction', 'cost_approximate': '300000.00', 'permit_fee': '4089.73', 'outside_city_limits': '', 'site_address': '629 Gooseberry Road, Spearfish, SD 57783', 'contractor': 'Dailey Construction LLC', 'hookup_fee': '3500.00', 'year': '2024', 'month': '12'}\n",
      "{'permit_number': 'RND-24-20', 'applicant_name': 'Linda Wordeman', 'construction_type': 'New Residential - One to Two Family Dwelling Construction', 'cost_approximate': '1111627.74', 'permit_fee': '3772.43', 'outside_city_limits': '', 'site_address': '604 Bridgewater Court, Spearfish, SD 57783', 'contractor': 'Timberline Builders', 'hookup_fee': '3500.00', 'year': '2024', 'month': '12'}\n",
      "{'permit_number': 'RND-24-21', 'applicant_name': 'Aaron C & Susan H Thompson', 'construction_type': 'New Residential - One to Two Family Dwelling Construction', 'cost_approximate': '125000.00', 'permit_fee': '791.65', 'outside_city_limits': '', 'site_address': '430 W. Kansas St, Spearfish, SD 57783', 'contractor': 'Hemeyer Enterprises, Inc.', 'hookup_fee': '', 'year': '2024', 'month': '12'}\n"
     ]
    }
   ],
   "source": [
    "filepath_in = f'pdfs/{date}.pdf'\n",
    "filepath_out = f'data/{date}.csv'\n",
    "\n",
    "year, month = date.split('-')\n",
    "\n",
    "'''\n",
    "if os.path.exists(filepath_out):\n",
    "    raise Exception(f'CSV file exists! {filepath_out}')\n",
    "'''\n",
    "\n",
    "# open the PDF with pdfplumber\n",
    "with pdfplumber.open(filepath_in) as pdf:\n",
    "\n",
    "    # empty list to hold the extracted data\n",
    "    table_data = []\n",
    "\n",
    "    # loop over the PDF pages\n",
    "    for page in pdf.pages:\n",
    "\n",
    "        # some reports have 2 tables on the last page,\n",
    "        # so you need to make sure you end up with the first one\n",
    "        table = page.extract_tables()[0] \n",
    "\n",
    "        # add the data to the tracking list\n",
    "        if table:\n",
    "            table_data.extend(table)\n",
    "\n",
    "# an empty list to hold the parsed data\n",
    "data_parsed = []\n",
    "\n",
    "# records are split over two lines, so using sentinel vars\n",
    "# to guardrail populating a dict as you iterate\n",
    "current_record = {}\n",
    "\n",
    "# loop over the rows of raw data\n",
    "for line in table_data:\n",
    "\n",
    "    # using some string methods later, so want empty strings\n",
    "    # instead of None vals for blanks\n",
    "    line = [x or '' for x in line]\n",
    "\n",
    "    # skip empty rows\n",
    "    if not any(line):\n",
    "        continue\n",
    "\n",
    "    # see what the first value in the row is\n",
    "    first_value = line[0].lower()\n",
    "\n",
    "    # break if you get to a row with any\n",
    "    # of these terms are present in the first value\n",
    "    break_terms = [\n",
    "        'total',\n",
    "        'year-to-date',\n",
    "        'year to date',\n",
    "        'project',\n",
    "        '\\n',\n",
    "        'permits'\n",
    "    ]\n",
    "\n",
    "    if any([x in first_value.lower() for x in break_terms]):\n",
    "        break\n",
    "\n",
    "    # parse the line that begins with \"address\" --\n",
    "    # second line in the record\n",
    "    if first_value == 'address':\n",
    "        _, address,  _, contractor, _, hookup_fee = line\n",
    "\n",
    "        current_record['site_address'] = address\n",
    "\n",
    "        current_record['contractor'] = contractor\n",
    "        current_record['hookup_fee'] = hookup_fee\n",
    "        current_record['year'] = year\n",
    "        current_record['month'] = month\n",
    "\n",
    "        # clean up some garbage chars in the currency columns\n",
    "        for x in [' ', '$', ',', 'nofee', 'n/a', '-', 'waived']:\n",
    "            current_record['cost_approximate'] = current_record['cost_approximate'].lower().replace(x, '')\n",
    "            current_record['permit_fee'] = current_record['permit_fee'].lower().replace(x, '')\n",
    "            current_record['hookup_fee'] = current_record['hookup_fee'].lower().replace(x, '')\n",
    "\n",
    "        # we're done! print to let us know what's up\n",
    "        print(current_record)\n",
    "\n",
    "        # add the now-full dict to the main list\n",
    "        data_parsed.append(current_record)\n",
    "\n",
    "        # ... and reset the tracking dict\n",
    "        current_record = {}\n",
    "\n",
    "    # parse the first line of each record\n",
    "    else:\n",
    "        permit_id, applicant, const_type, _, cost, permit_fee = line\n",
    "\n",
    "        # break this out into its own var\n",
    "        outside_city_limits = ''\n",
    "    \n",
    "        if '*' in permit_id:\n",
    "            outside_city_limits = True\n",
    "    \n",
    "        permit_id = permit_id.replace('*', '')\n",
    "\n",
    "        current_record['permit_number'] = permit_id\n",
    "        current_record['applicant_name'] = applicant\n",
    "        current_record['construction_type'] = const_type\n",
    "        current_record['cost_approximate'] = cost\n",
    "        current_record['permit_fee'] = permit_fee\n",
    "        current_record['outside_city_limits'] = outside_city_limits"
   ]
  },
  {
   "cell_type": "code",
   "execution_count": 31,
   "id": "e38f38d6-c47f-4cd2-9d03-e7f1e0049447",
   "metadata": {},
   "outputs": [
    {
     "name": "stdout",
     "output_type": "stream",
     "text": [
      "Wrote 15 records to file: data/2024-12.csv\n"
     ]
    }
   ],
   "source": [
    "# write the records to file -- be sure to check the\n",
    "# record count against the live PDF and check for accuracy\n",
    "with open(filepath_out, 'w') as outfile:\n",
    "    writer = csv.DictWriter(outfile, fieldnames=csv_headers)\n",
    "    writer.writeheader()\n",
    "    writer.writerows(data_parsed)\n",
    "\n",
    "print(f'Wrote {len(data_parsed)} records to file: {filepath_out}')"
   ]
  },
  {
   "cell_type": "code",
   "execution_count": 32,
   "id": "2630e43d-c810-4bda-8c51-40ef383b69e8",
   "metadata": {},
   "outputs": [
    {
     "name": "stdout",
     "output_type": "stream",
     "text": [
      "Check the address for RND-24-15 (data/2024-12.csv)\n",
      "    7923 & 7925 DUKE PARKWAY, SPEARFISH, SD 57 57783\n",
      "Wrote 5,178 permit records to file: spearfish-building-permits.csv\n"
     ]
    }
   ],
   "source": [
    "%run combine"
   ]
  }
 ],
 "metadata": {
  "kernelspec": {
   "display_name": "Python 3 (ipykernel)",
   "language": "python",
   "name": "python3"
  },
  "language_info": {
   "codemirror_mode": {
    "name": "ipython",
    "version": 3
   },
   "file_extension": ".py",
   "mimetype": "text/x-python",
   "name": "python",
   "nbconvert_exporter": "python",
   "pygments_lexer": "ipython3",
   "version": "3.12.7"
  }
 },
 "nbformat": 4,
 "nbformat_minor": 5
}
